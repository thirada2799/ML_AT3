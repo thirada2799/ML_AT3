{
 "cells": [
  {
   "cell_type": "markdown",
   "id": "9a2ae92c",
   "metadata": {
    "id": "9a2ae92c"
   },
   "source": [
    "# ML_AT3 Experiment - Classification Analysis"
   ]
  },
  {
   "cell_type": "markdown",
   "id": "cf3ac224",
   "metadata": {
    "id": "cf3ac224"
   },
   "source": [
    "_Thirada Tiamklang 14337188_"
   ]
  },
  {
   "cell_type": "markdown",
   "id": "f9caa3e9",
   "metadata": {
    "id": "f9caa3e9"
   },
   "source": [
    "In this experiment, we will identify __fraudulent behaviour__ by predicting if a transaction is fraudulent or not. Using machine learning with classification models to train the best models that provided the most accurate results. \n",
    "\n",
    "The models include Logistic regression, K-Nearest Neighbor Classifier(KNN), and Gaussian Naive Bayes using cross-validation and grid search to prevent the under and overfitting.  \n",
    "\n",
    "1. Import and merge dataset\n",
    "2. Explore and visaulisation\n",
    "3. Clean data and feature engineering\n",
    "4. Split data\n",
    "5. Scale data\n",
    "6. K-fold split\n",
    "7. Logistic regression\n",
    "8. K-Nearest Neighbor Classifier(KNN)\n",
    "9. Gaussian Naive Bayes\n",
    "10. Conclusion"
   ]
  },
  {
   "cell_type": "markdown",
   "id": "fc1a5560",
   "metadata": {
    "id": "fc1a5560"
   },
   "source": [
    "## 1. Import and merge dataset"
   ]
  },
  {
   "cell_type": "markdown",
   "id": "4b0d589a",
   "metadata": {
    "id": "4b0d589a"
   },
   "source": [
    "### 1.1 Customers dataset"
   ]
  },
  {
   "cell_type": "code",
   "execution_count": 1,
   "id": "8162b3d6",
   "metadata": {
    "id": "8162b3d6"
   },
   "outputs": [],
   "source": [
    "import warnings\n",
    "warnings.filterwarnings('ignore')\n",
    "%matplotlib inline"
   ]
  },
  {
   "cell_type": "code",
   "execution_count": 2,
   "id": "107bc855",
   "metadata": {
    "id": "107bc855"
   },
   "outputs": [],
   "source": [
    "import pandas as pd"
   ]
  },
  {
   "cell_type": "code",
   "execution_count": 3,
   "id": "000a921a",
   "metadata": {
    "id": "000a921a"
   },
   "outputs": [],
   "source": [
    "cus = pd.read_csv('customers.csv', sep='|', header=0)"
   ]
  },
  {
   "cell_type": "code",
   "execution_count": 4,
   "id": "07ba1b46",
   "metadata": {
    "id": "07ba1b46"
   },
   "outputs": [
    {
     "data": {
      "text/html": [
       "<div>\n",
       "<style scoped>\n",
       "    .dataframe tbody tr th:only-of-type {\n",
       "        vertical-align: middle;\n",
       "    }\n",
       "\n",
       "    .dataframe tbody tr th {\n",
       "        vertical-align: top;\n",
       "    }\n",
       "\n",
       "    .dataframe thead th {\n",
       "        text-align: right;\n",
       "    }\n",
       "</style>\n",
       "<table border=\"1\" class=\"dataframe\">\n",
       "  <thead>\n",
       "    <tr style=\"text-align: right;\">\n",
       "      <th></th>\n",
       "      <th>ssn</th>\n",
       "      <th>cc_num</th>\n",
       "      <th>first</th>\n",
       "      <th>last</th>\n",
       "      <th>gender</th>\n",
       "      <th>street</th>\n",
       "      <th>city</th>\n",
       "      <th>state</th>\n",
       "      <th>zip</th>\n",
       "      <th>lat</th>\n",
       "      <th>long</th>\n",
       "      <th>city_pop</th>\n",
       "      <th>job</th>\n",
       "      <th>dob</th>\n",
       "      <th>acct_num</th>\n",
       "    </tr>\n",
       "  </thead>\n",
       "  <tbody>\n",
       "    <tr>\n",
       "      <th>0</th>\n",
       "      <td>115-04-4507</td>\n",
       "      <td>4218196001337</td>\n",
       "      <td>Jonathan</td>\n",
       "      <td>Johnson</td>\n",
       "      <td>M</td>\n",
       "      <td>863 Lawrence Valleys</td>\n",
       "      <td>Ambler</td>\n",
       "      <td>PA</td>\n",
       "      <td>19002</td>\n",
       "      <td>40.1809</td>\n",
       "      <td>-75.2156</td>\n",
       "      <td>32412</td>\n",
       "      <td>Accounting technician</td>\n",
       "      <td>1959-10-03</td>\n",
       "      <td>888022315787</td>\n",
       "    </tr>\n",
       "    <tr>\n",
       "      <th>1</th>\n",
       "      <td>715-55-5575</td>\n",
       "      <td>4351161559407816183</td>\n",
       "      <td>Elaine</td>\n",
       "      <td>Fuller</td>\n",
       "      <td>F</td>\n",
       "      <td>310 Kendra Common Apt. 164</td>\n",
       "      <td>Leland</td>\n",
       "      <td>NC</td>\n",
       "      <td>28451</td>\n",
       "      <td>34.2680</td>\n",
       "      <td>-78.0578</td>\n",
       "      <td>27112</td>\n",
       "      <td>Professor Emeritus</td>\n",
       "      <td>1963-06-07</td>\n",
       "      <td>917558277935</td>\n",
       "    </tr>\n",
       "    <tr>\n",
       "      <th>2</th>\n",
       "      <td>167-48-5821</td>\n",
       "      <td>4192832764832</td>\n",
       "      <td>Michael</td>\n",
       "      <td>Cameron</td>\n",
       "      <td>M</td>\n",
       "      <td>05641 Robin Port</td>\n",
       "      <td>Cordova</td>\n",
       "      <td>SC</td>\n",
       "      <td>29039</td>\n",
       "      <td>33.4275</td>\n",
       "      <td>-80.8857</td>\n",
       "      <td>4215</td>\n",
       "      <td>International aid/development worker</td>\n",
       "      <td>1973-05-30</td>\n",
       "      <td>718172762479</td>\n",
       "    </tr>\n",
       "    <tr>\n",
       "      <th>3</th>\n",
       "      <td>406-83-7518</td>\n",
       "      <td>4238849696532874</td>\n",
       "      <td>Brandon</td>\n",
       "      <td>Williams</td>\n",
       "      <td>M</td>\n",
       "      <td>26916 Carlson Mountain</td>\n",
       "      <td>Birmingham</td>\n",
       "      <td>AL</td>\n",
       "      <td>35242</td>\n",
       "      <td>33.3813</td>\n",
       "      <td>-86.7046</td>\n",
       "      <td>493806</td>\n",
       "      <td>Seismic interpreter</td>\n",
       "      <td>1942-12-26</td>\n",
       "      <td>947268892251</td>\n",
       "    </tr>\n",
       "    <tr>\n",
       "      <th>4</th>\n",
       "      <td>697-93-1877</td>\n",
       "      <td>4514627048281480</td>\n",
       "      <td>Lisa</td>\n",
       "      <td>Hernandez</td>\n",
       "      <td>F</td>\n",
       "      <td>809 Burns Creek</td>\n",
       "      <td>Fargo</td>\n",
       "      <td>GA</td>\n",
       "      <td>31631</td>\n",
       "      <td>30.7166</td>\n",
       "      <td>-82.5801</td>\n",
       "      <td>559</td>\n",
       "      <td>Medical laboratory scientific officer</td>\n",
       "      <td>1939-05-22</td>\n",
       "      <td>888335239225</td>\n",
       "    </tr>\n",
       "  </tbody>\n",
       "</table>\n",
       "</div>"
      ],
      "text/plain": [
       "           ssn               cc_num     first       last gender  \\\n",
       "0  115-04-4507        4218196001337  Jonathan    Johnson      M   \n",
       "1  715-55-5575  4351161559407816183    Elaine     Fuller      F   \n",
       "2  167-48-5821        4192832764832   Michael    Cameron      M   \n",
       "3  406-83-7518     4238849696532874   Brandon   Williams      M   \n",
       "4  697-93-1877     4514627048281480      Lisa  Hernandez      F   \n",
       "\n",
       "                       street        city state    zip      lat     long  \\\n",
       "0        863 Lawrence Valleys      Ambler    PA  19002  40.1809 -75.2156   \n",
       "1  310 Kendra Common Apt. 164      Leland    NC  28451  34.2680 -78.0578   \n",
       "2            05641 Robin Port     Cordova    SC  29039  33.4275 -80.8857   \n",
       "3      26916 Carlson Mountain  Birmingham    AL  35242  33.3813 -86.7046   \n",
       "4             809 Burns Creek       Fargo    GA  31631  30.7166 -82.5801   \n",
       "\n",
       "   city_pop                                    job         dob      acct_num  \n",
       "0     32412                  Accounting technician  1959-10-03  888022315787  \n",
       "1     27112                     Professor Emeritus  1963-06-07  917558277935  \n",
       "2      4215   International aid/development worker  1973-05-30  718172762479  \n",
       "3    493806                    Seismic interpreter  1942-12-26  947268892251  \n",
       "4       559  Medical laboratory scientific officer  1939-05-22  888335239225  "
      ]
     },
     "execution_count": 4,
     "metadata": {},
     "output_type": "execute_result"
    }
   ],
   "source": [
    "cus.head()"
   ]
  },
  {
   "cell_type": "code",
   "execution_count": 5,
   "id": "f0429054",
   "metadata": {
    "id": "f0429054"
   },
   "outputs": [
    {
     "data": {
      "text/plain": [
       "(1000, 15)"
      ]
     },
     "execution_count": 5,
     "metadata": {},
     "output_type": "execute_result"
    }
   ],
   "source": [
    "cus.shape"
   ]
  },
  {
   "cell_type": "markdown",
   "id": "37edf206",
   "metadata": {
    "id": "37edf206"
   },
   "source": [
    "There are 1,000 customers in this bank's dataset."
   ]
  },
  {
   "cell_type": "markdown",
   "id": "2c2fde4a",
   "metadata": {
    "id": "2c2fde4a"
   },
   "source": [
    "### 1.2 Transactions dataset"
   ]
  },
  {
   "cell_type": "markdown",
   "id": "689aed70",
   "metadata": {
    "id": "689aed70"
   },
   "source": [
    "We will use the loop to separate and merge all the dataset into only one file."
   ]
  },
  {
   "cell_type": "code",
   "execution_count": 6,
   "id": "53cfff18",
   "metadata": {
    "id": "53cfff18"
   },
   "outputs": [
    {
     "name": "stdout",
     "output_type": "stream",
     "text": [
      "          cc_num      acct_num                         trans_num   unix_time  \\\n",
      "0  4218196001337  888022315787  91ab12e73ef38206e1121e9648d2408d  1558719550   \n",
      "1  4218196001337  888022315787  071553d533a6822a4431c354c434ddcb  1569425519   \n",
      "2  4218196001337  888022315787  0cfad38ef15e4749eff68dc83f62c151  1577205601   \n",
      "3  4218196001337  888022315787  5782693d7c70f062f258cb30bfa8900f  1571428238   \n",
      "4  4218196001337  888022315787  35fd7db657d7e30dd608c37f7798186e  1549840400   \n",
      "\n",
      "        category    amt is_fraud        merchant  merch_lat  merch_long  \n",
      "0  gas_transport  69.12        0  Phillips Group  39.491416  -75.588522  \n",
      "1    grocery_pos  68.11        0      Tucker Ltd  40.890319  -75.573359  \n",
      "2       misc_net  40.35        0       Dixon PLC  39.244958  -74.475327  \n",
      "3    grocery_pos  96.22        0  Lambert-Cooper  39.656925  -75.802342  \n",
      "4  gas_transport  71.89        0    Griffith LLC  40.313342  -74.220434  \n"
     ]
    }
   ],
   "source": [
    "import pandas as pd\n",
    "\n",
    "# List of file names to read in\n",
    "file_names = ['transactions_{}.csv'.format(i) for i in range(132)]\n",
    "\n",
    "# List of DataFrames to concatenate\n",
    "dfs = []\n",
    "\n",
    "# Loop through the file names and read in the CSV files\n",
    "for file_name in file_names:\n",
    "    # Read in the CSV file with pipe (|) as separator\n",
    "    df = pd.read_csv(file_name, sep='|', header=0)\n",
    "    \n",
    "    # Add the DataFrame to the list of DataFrames\n",
    "    dfs.append(df)\n",
    "\n",
    "# Concatenate the DataFrames\n",
    "result = pd.concat(dfs)\n",
    "\n",
    "# Print the resulting DataFrame\n",
    "print(result.head())\n"
   ]
  },
  {
   "cell_type": "code",
   "execution_count": 7,
   "id": "bfca22c1",
   "metadata": {
    "id": "bfca22c1"
   },
   "outputs": [
    {
     "data": {
      "text/plain": [
       "(4260904, 10)"
      ]
     },
     "execution_count": 7,
     "metadata": {},
     "output_type": "execute_result"
    }
   ],
   "source": [
    "result.shape"
   ]
  },
  {
   "cell_type": "markdown",
   "id": "e3486aa2",
   "metadata": {
    "id": "e3486aa2"
   },
   "source": [
    "The total number of transactions is 4,260,904."
   ]
  },
  {
   "cell_type": "markdown",
   "id": "3b71ee20",
   "metadata": {
    "id": "3b71ee20"
   },
   "source": [
    "### 1.3 Merge customers and Transactions dataset"
   ]
  },
  {
   "cell_type": "markdown",
   "id": "fc8b2ae1",
   "metadata": {
    "id": "fc8b2ae1"
   },
   "source": [
    "Now, we will merge the customers and transactions dataset together. With the same columns: cc_num and acct_num."
   ]
  },
  {
   "cell_type": "code",
   "execution_count": 8,
   "id": "fcc0bb4c",
   "metadata": {
    "id": "fcc0bb4c"
   },
   "outputs": [
    {
     "data": {
      "text/plain": [
       "Index(['cc_num', 'acct_num', 'trans_num', 'unix_time', 'category', 'amt',\n",
       "       'is_fraud', 'merchant', 'merch_lat', 'merch_long'],\n",
       "      dtype='object')"
      ]
     },
     "execution_count": 8,
     "metadata": {},
     "output_type": "execute_result"
    }
   ],
   "source": [
    "result.columns"
   ]
  },
  {
   "cell_type": "code",
   "execution_count": 9,
   "id": "7844132b",
   "metadata": {
    "id": "7844132b"
   },
   "outputs": [
    {
     "data": {
      "text/plain": [
       "Index(['ssn', 'cc_num', 'first', 'last', 'gender', 'street', 'city', 'state',\n",
       "       'zip', 'lat', 'long', 'city_pop', 'job', 'dob', 'acct_num'],\n",
       "      dtype='object')"
      ]
     },
     "execution_count": 9,
     "metadata": {},
     "output_type": "execute_result"
    }
   ],
   "source": [
    "cus.columns"
   ]
  },
  {
   "cell_type": "code",
   "execution_count": 10,
   "id": "efd096c9",
   "metadata": {
    "id": "efd096c9"
   },
   "outputs": [
    {
     "name": "stdout",
     "output_type": "stream",
     "text": [
      "           ssn         cc_num     first     last gender                street  \\\n",
      "0  115-04-4507  4218196001337  Jonathan  Johnson      M  863 Lawrence Valleys   \n",
      "1  115-04-4507  4218196001337  Jonathan  Johnson      M  863 Lawrence Valleys   \n",
      "2  115-04-4507  4218196001337  Jonathan  Johnson      M  863 Lawrence Valleys   \n",
      "3  115-04-4507  4218196001337  Jonathan  Johnson      M  863 Lawrence Valleys   \n",
      "4  115-04-4507  4218196001337  Jonathan  Johnson      M  863 Lawrence Valleys   \n",
      "\n",
      "     city state    zip      lat  ...         dob      acct_num  \\\n",
      "0  Ambler    PA  19002  40.1809  ...  1959-10-03  888022315787   \n",
      "1  Ambler    PA  19002  40.1809  ...  1959-10-03  888022315787   \n",
      "2  Ambler    PA  19002  40.1809  ...  1959-10-03  888022315787   \n",
      "3  Ambler    PA  19002  40.1809  ...  1959-10-03  888022315787   \n",
      "4  Ambler    PA  19002  40.1809  ...  1959-10-03  888022315787   \n",
      "\n",
      "                          trans_num   unix_time       category    amt  \\\n",
      "0  91ab12e73ef38206e1121e9648d2408d  1558719550  gas_transport  69.12   \n",
      "1  071553d533a6822a4431c354c434ddcb  1569425519    grocery_pos  68.11   \n",
      "2  0cfad38ef15e4749eff68dc83f62c151  1577205601       misc_net  40.35   \n",
      "3  5782693d7c70f062f258cb30bfa8900f  1571428238    grocery_pos  96.22   \n",
      "4  35fd7db657d7e30dd608c37f7798186e  1549840400  gas_transport  71.89   \n",
      "\n",
      "  is_fraud        merchant  merch_lat merch_long  \n",
      "0        0  Phillips Group  39.491416 -75.588522  \n",
      "1        0      Tucker Ltd  40.890319 -75.573359  \n",
      "2        0       Dixon PLC  39.244958 -74.475327  \n",
      "3        0  Lambert-Cooper  39.656925 -75.802342  \n",
      "4        0    Griffith LLC  40.313342 -74.220434  \n",
      "\n",
      "[5 rows x 23 columns]\n"
     ]
    }
   ],
   "source": [
    "df = pd.merge(cus, result, on=['acct_num', 'cc_num'])\n",
    "print(df.head())"
   ]
  },
  {
   "cell_type": "code",
   "execution_count": 11,
   "id": "1c0549a2",
   "metadata": {
    "id": "1c0549a2"
   },
   "outputs": [
    {
     "data": {
      "text/plain": [
       "(4260904, 23)"
      ]
     },
     "execution_count": 11,
     "metadata": {},
     "output_type": "execute_result"
    }
   ],
   "source": [
    "df.shape"
   ]
  },
  {
   "cell_type": "markdown",
   "id": "42ced107",
   "metadata": {
    "id": "42ced107"
   },
   "source": [
    "After we merged all the datasets, the number of transactions with the details of each customer was 4,260,904 with 23 features."
   ]
  },
  {
   "cell_type": "code",
   "execution_count": 12,
   "id": "d1f27f7f",
   "metadata": {
    "id": "d1f27f7f"
   },
   "outputs": [
    {
     "name": "stdout",
     "output_type": "stream",
     "text": [
      "<class 'pandas.core.frame.DataFrame'>\n",
      "Int64Index: 4260904 entries, 0 to 4260903\n",
      "Data columns (total 23 columns):\n",
      " #   Column      Dtype  \n",
      "---  ------      -----  \n",
      " 0   ssn         object \n",
      " 1   cc_num      object \n",
      " 2   first       object \n",
      " 3   last        object \n",
      " 4   gender      object \n",
      " 5   street      object \n",
      " 6   city        object \n",
      " 7   state       object \n",
      " 8   zip         int64  \n",
      " 9   lat         float64\n",
      " 10  long        float64\n",
      " 11  city_pop    int64  \n",
      " 12  job         object \n",
      " 13  dob         object \n",
      " 14  acct_num    object \n",
      " 15  trans_num   object \n",
      " 16  unix_time   object \n",
      " 17  category    object \n",
      " 18  amt         float64\n",
      " 19  is_fraud    object \n",
      " 20  merchant    object \n",
      " 21  merch_lat   float64\n",
      " 22  merch_long  float64\n",
      "dtypes: float64(5), int64(2), object(16)\n",
      "memory usage: 780.2+ MB\n"
     ]
    }
   ],
   "source": [
    "df.info()"
   ]
  },
  {
   "cell_type": "code",
   "execution_count": 13,
   "id": "8ef96b4b",
   "metadata": {
    "id": "8ef96b4b"
   },
   "outputs": [],
   "source": [
    "# df.to_csv('/Users/thiradatiamklang/Desktop/ML/At3/merged_transactions.csv', index=False)"
   ]
  },
  {
   "cell_type": "markdown",
   "id": "b53e7052",
   "metadata": {
    "id": "b53e7052"
   },
   "source": [
    "We will convert bod and unix_time into the forms of age and timestamp to be used in the training process."
   ]
  },
  {
   "cell_type": "code",
   "execution_count": 14,
   "id": "bd51caf6",
   "metadata": {
    "id": "bd51caf6"
   },
   "outputs": [],
   "source": [
    "import datetime\n",
    "\n",
    "#convert bod into age\n",
    "current_year = datetime.datetime.now().year\n",
    "df['dob'] = pd.to_datetime(df['dob']) \n",
    "df['age'] = current_year - df['dob'].dt.year\n",
    "\n",
    "#convert unix_time into timestamp\n",
    "df['timestamp'] = df['unix_time'].apply(lambda x: datetime.datetime.fromtimestamp(x).strftime('%Y-%m-%d %H:%M:%S'))"
   ]
  },
  {
   "cell_type": "code",
   "execution_count": 15,
   "id": "46b726f6",
   "metadata": {
    "id": "46b726f6"
   },
   "outputs": [
    {
     "data": {
      "text/html": [
       "<div>\n",
       "<style scoped>\n",
       "    .dataframe tbody tr th:only-of-type {\n",
       "        vertical-align: middle;\n",
       "    }\n",
       "\n",
       "    .dataframe tbody tr th {\n",
       "        vertical-align: top;\n",
       "    }\n",
       "\n",
       "    .dataframe thead th {\n",
       "        text-align: right;\n",
       "    }\n",
       "</style>\n",
       "<table border=\"1\" class=\"dataframe\">\n",
       "  <thead>\n",
       "    <tr style=\"text-align: right;\">\n",
       "      <th></th>\n",
       "      <th>ssn</th>\n",
       "      <th>cc_num</th>\n",
       "      <th>first</th>\n",
       "      <th>last</th>\n",
       "      <th>gender</th>\n",
       "      <th>street</th>\n",
       "      <th>city</th>\n",
       "      <th>state</th>\n",
       "      <th>zip</th>\n",
       "      <th>lat</th>\n",
       "      <th>...</th>\n",
       "      <th>trans_num</th>\n",
       "      <th>unix_time</th>\n",
       "      <th>category</th>\n",
       "      <th>amt</th>\n",
       "      <th>is_fraud</th>\n",
       "      <th>merchant</th>\n",
       "      <th>merch_lat</th>\n",
       "      <th>merch_long</th>\n",
       "      <th>age</th>\n",
       "      <th>timestamp</th>\n",
       "    </tr>\n",
       "  </thead>\n",
       "  <tbody>\n",
       "    <tr>\n",
       "      <th>0</th>\n",
       "      <td>115-04-4507</td>\n",
       "      <td>4218196001337</td>\n",
       "      <td>Jonathan</td>\n",
       "      <td>Johnson</td>\n",
       "      <td>M</td>\n",
       "      <td>863 Lawrence Valleys</td>\n",
       "      <td>Ambler</td>\n",
       "      <td>PA</td>\n",
       "      <td>19002</td>\n",
       "      <td>40.1809</td>\n",
       "      <td>...</td>\n",
       "      <td>91ab12e73ef38206e1121e9648d2408d</td>\n",
       "      <td>1558719550</td>\n",
       "      <td>gas_transport</td>\n",
       "      <td>69.12</td>\n",
       "      <td>0</td>\n",
       "      <td>Phillips Group</td>\n",
       "      <td>39.491416</td>\n",
       "      <td>-75.588522</td>\n",
       "      <td>64</td>\n",
       "      <td>2019-05-25 03:39:10</td>\n",
       "    </tr>\n",
       "    <tr>\n",
       "      <th>1</th>\n",
       "      <td>115-04-4507</td>\n",
       "      <td>4218196001337</td>\n",
       "      <td>Jonathan</td>\n",
       "      <td>Johnson</td>\n",
       "      <td>M</td>\n",
       "      <td>863 Lawrence Valleys</td>\n",
       "      <td>Ambler</td>\n",
       "      <td>PA</td>\n",
       "      <td>19002</td>\n",
       "      <td>40.1809</td>\n",
       "      <td>...</td>\n",
       "      <td>071553d533a6822a4431c354c434ddcb</td>\n",
       "      <td>1569425519</td>\n",
       "      <td>grocery_pos</td>\n",
       "      <td>68.11</td>\n",
       "      <td>0</td>\n",
       "      <td>Tucker Ltd</td>\n",
       "      <td>40.890319</td>\n",
       "      <td>-75.573359</td>\n",
       "      <td>64</td>\n",
       "      <td>2019-09-26 01:31:59</td>\n",
       "    </tr>\n",
       "    <tr>\n",
       "      <th>2</th>\n",
       "      <td>115-04-4507</td>\n",
       "      <td>4218196001337</td>\n",
       "      <td>Jonathan</td>\n",
       "      <td>Johnson</td>\n",
       "      <td>M</td>\n",
       "      <td>863 Lawrence Valleys</td>\n",
       "      <td>Ambler</td>\n",
       "      <td>PA</td>\n",
       "      <td>19002</td>\n",
       "      <td>40.1809</td>\n",
       "      <td>...</td>\n",
       "      <td>0cfad38ef15e4749eff68dc83f62c151</td>\n",
       "      <td>1577205601</td>\n",
       "      <td>misc_net</td>\n",
       "      <td>40.35</td>\n",
       "      <td>0</td>\n",
       "      <td>Dixon PLC</td>\n",
       "      <td>39.244958</td>\n",
       "      <td>-74.475327</td>\n",
       "      <td>64</td>\n",
       "      <td>2019-12-25 03:40:01</td>\n",
       "    </tr>\n",
       "    <tr>\n",
       "      <th>3</th>\n",
       "      <td>115-04-4507</td>\n",
       "      <td>4218196001337</td>\n",
       "      <td>Jonathan</td>\n",
       "      <td>Johnson</td>\n",
       "      <td>M</td>\n",
       "      <td>863 Lawrence Valleys</td>\n",
       "      <td>Ambler</td>\n",
       "      <td>PA</td>\n",
       "      <td>19002</td>\n",
       "      <td>40.1809</td>\n",
       "      <td>...</td>\n",
       "      <td>5782693d7c70f062f258cb30bfa8900f</td>\n",
       "      <td>1571428238</td>\n",
       "      <td>grocery_pos</td>\n",
       "      <td>96.22</td>\n",
       "      <td>0</td>\n",
       "      <td>Lambert-Cooper</td>\n",
       "      <td>39.656925</td>\n",
       "      <td>-75.802342</td>\n",
       "      <td>64</td>\n",
       "      <td>2019-10-19 06:50:38</td>\n",
       "    </tr>\n",
       "    <tr>\n",
       "      <th>4</th>\n",
       "      <td>115-04-4507</td>\n",
       "      <td>4218196001337</td>\n",
       "      <td>Jonathan</td>\n",
       "      <td>Johnson</td>\n",
       "      <td>M</td>\n",
       "      <td>863 Lawrence Valleys</td>\n",
       "      <td>Ambler</td>\n",
       "      <td>PA</td>\n",
       "      <td>19002</td>\n",
       "      <td>40.1809</td>\n",
       "      <td>...</td>\n",
       "      <td>35fd7db657d7e30dd608c37f7798186e</td>\n",
       "      <td>1549840400</td>\n",
       "      <td>gas_transport</td>\n",
       "      <td>71.89</td>\n",
       "      <td>0</td>\n",
       "      <td>Griffith LLC</td>\n",
       "      <td>40.313342</td>\n",
       "      <td>-74.220434</td>\n",
       "      <td>64</td>\n",
       "      <td>2019-02-11 10:13:20</td>\n",
       "    </tr>\n",
       "  </tbody>\n",
       "</table>\n",
       "<p>5 rows × 25 columns</p>\n",
       "</div>"
      ],
      "text/plain": [
       "           ssn         cc_num     first     last gender                street  \\\n",
       "0  115-04-4507  4218196001337  Jonathan  Johnson      M  863 Lawrence Valleys   \n",
       "1  115-04-4507  4218196001337  Jonathan  Johnson      M  863 Lawrence Valleys   \n",
       "2  115-04-4507  4218196001337  Jonathan  Johnson      M  863 Lawrence Valleys   \n",
       "3  115-04-4507  4218196001337  Jonathan  Johnson      M  863 Lawrence Valleys   \n",
       "4  115-04-4507  4218196001337  Jonathan  Johnson      M  863 Lawrence Valleys   \n",
       "\n",
       "     city state    zip      lat  ...                         trans_num  \\\n",
       "0  Ambler    PA  19002  40.1809  ...  91ab12e73ef38206e1121e9648d2408d   \n",
       "1  Ambler    PA  19002  40.1809  ...  071553d533a6822a4431c354c434ddcb   \n",
       "2  Ambler    PA  19002  40.1809  ...  0cfad38ef15e4749eff68dc83f62c151   \n",
       "3  Ambler    PA  19002  40.1809  ...  5782693d7c70f062f258cb30bfa8900f   \n",
       "4  Ambler    PA  19002  40.1809  ...  35fd7db657d7e30dd608c37f7798186e   \n",
       "\n",
       "    unix_time       category    amt is_fraud        merchant  merch_lat  \\\n",
       "0  1558719550  gas_transport  69.12        0  Phillips Group  39.491416   \n",
       "1  1569425519    grocery_pos  68.11        0      Tucker Ltd  40.890319   \n",
       "2  1577205601       misc_net  40.35        0       Dixon PLC  39.244958   \n",
       "3  1571428238    grocery_pos  96.22        0  Lambert-Cooper  39.656925   \n",
       "4  1549840400  gas_transport  71.89        0    Griffith LLC  40.313342   \n",
       "\n",
       "  merch_long  age            timestamp  \n",
       "0 -75.588522   64  2019-05-25 03:39:10  \n",
       "1 -75.573359   64  2019-09-26 01:31:59  \n",
       "2 -74.475327   64  2019-12-25 03:40:01  \n",
       "3 -75.802342   64  2019-10-19 06:50:38  \n",
       "4 -74.220434   64  2019-02-11 10:13:20  \n",
       "\n",
       "[5 rows x 25 columns]"
      ]
     },
     "execution_count": 15,
     "metadata": {},
     "output_type": "execute_result"
    }
   ],
   "source": [
    "df.head()"
   ]
  },
  {
   "cell_type": "code",
   "execution_count": 16,
   "id": "86a79b6a",
   "metadata": {
    "id": "86a79b6a"
   },
   "outputs": [],
   "source": [
    "#drop the dob and unix_time\n",
    "df.drop(['dob', 'unix_time'], axis=1, inplace=True)"
   ]
  },
  {
   "cell_type": "code",
   "execution_count": 17,
   "id": "fb81cf4a",
   "metadata": {
    "id": "fb81cf4a"
   },
   "outputs": [
    {
     "data": {
      "text/plain": [
       "(4260904, 23)"
      ]
     },
     "execution_count": 17,
     "metadata": {},
     "output_type": "execute_result"
    }
   ],
   "source": [
    "df.shape"
   ]
  },
  {
   "cell_type": "code",
   "execution_count": 18,
   "id": "6dac0e57",
   "metadata": {
    "id": "6dac0e57"
   },
   "outputs": [],
   "source": [
    "# df.to_csv('/Users/thiradatiamklang/Desktop/ML/At3/cleaned_transactions.csv', index=False)"
   ]
  },
  {
   "cell_type": "markdown",
   "id": "924a002d",
   "metadata": {
    "id": "924a002d"
   },
   "source": [
    "## 2. Explore and visaulisation"
   ]
  },
  {
   "cell_type": "code",
   "execution_count": 19,
   "id": "3e023377",
   "metadata": {
    "colab": {
     "base_uri": "https://localhost:8080/",
     "height": 473
    },
    "id": "3e023377",
    "outputId": "91ba37b5-5fab-43ff-f7fc-211c645fb036",
    "scrolled": true
   },
   "outputs": [
    {
     "data": {
      "text/html": [
       "<div>\n",
       "<style scoped>\n",
       "    .dataframe tbody tr th:only-of-type {\n",
       "        vertical-align: middle;\n",
       "    }\n",
       "\n",
       "    .dataframe tbody tr th {\n",
       "        vertical-align: top;\n",
       "    }\n",
       "\n",
       "    .dataframe thead th {\n",
       "        text-align: right;\n",
       "    }\n",
       "</style>\n",
       "<table border=\"1\" class=\"dataframe\">\n",
       "  <thead>\n",
       "    <tr style=\"text-align: right;\">\n",
       "      <th></th>\n",
       "      <th>ssn</th>\n",
       "      <th>cc_num</th>\n",
       "      <th>first</th>\n",
       "      <th>last</th>\n",
       "      <th>gender</th>\n",
       "      <th>street</th>\n",
       "      <th>city</th>\n",
       "      <th>state</th>\n",
       "      <th>zip</th>\n",
       "      <th>lat</th>\n",
       "      <th>...</th>\n",
       "      <th>acct_num</th>\n",
       "      <th>trans_num</th>\n",
       "      <th>category</th>\n",
       "      <th>amt</th>\n",
       "      <th>is_fraud</th>\n",
       "      <th>merchant</th>\n",
       "      <th>merch_lat</th>\n",
       "      <th>merch_long</th>\n",
       "      <th>age</th>\n",
       "      <th>timestamp</th>\n",
       "    </tr>\n",
       "  </thead>\n",
       "  <tbody>\n",
       "    <tr>\n",
       "      <th>0</th>\n",
       "      <td>115-04-4507</td>\n",
       "      <td>4218196001337</td>\n",
       "      <td>Jonathan</td>\n",
       "      <td>Johnson</td>\n",
       "      <td>M</td>\n",
       "      <td>863 Lawrence Valleys</td>\n",
       "      <td>Ambler</td>\n",
       "      <td>PA</td>\n",
       "      <td>19002</td>\n",
       "      <td>40.1809</td>\n",
       "      <td>...</td>\n",
       "      <td>888022315787</td>\n",
       "      <td>91ab12e73ef38206e1121e9648d2408d</td>\n",
       "      <td>gas_transport</td>\n",
       "      <td>69.12</td>\n",
       "      <td>0</td>\n",
       "      <td>Phillips Group</td>\n",
       "      <td>39.491416</td>\n",
       "      <td>-75.588522</td>\n",
       "      <td>64</td>\n",
       "      <td>2019-05-25 03:39:10</td>\n",
       "    </tr>\n",
       "    <tr>\n",
       "      <th>1</th>\n",
       "      <td>115-04-4507</td>\n",
       "      <td>4218196001337</td>\n",
       "      <td>Jonathan</td>\n",
       "      <td>Johnson</td>\n",
       "      <td>M</td>\n",
       "      <td>863 Lawrence Valleys</td>\n",
       "      <td>Ambler</td>\n",
       "      <td>PA</td>\n",
       "      <td>19002</td>\n",
       "      <td>40.1809</td>\n",
       "      <td>...</td>\n",
       "      <td>888022315787</td>\n",
       "      <td>071553d533a6822a4431c354c434ddcb</td>\n",
       "      <td>grocery_pos</td>\n",
       "      <td>68.11</td>\n",
       "      <td>0</td>\n",
       "      <td>Tucker Ltd</td>\n",
       "      <td>40.890319</td>\n",
       "      <td>-75.573359</td>\n",
       "      <td>64</td>\n",
       "      <td>2019-09-26 01:31:59</td>\n",
       "    </tr>\n",
       "    <tr>\n",
       "      <th>2</th>\n",
       "      <td>115-04-4507</td>\n",
       "      <td>4218196001337</td>\n",
       "      <td>Jonathan</td>\n",
       "      <td>Johnson</td>\n",
       "      <td>M</td>\n",
       "      <td>863 Lawrence Valleys</td>\n",
       "      <td>Ambler</td>\n",
       "      <td>PA</td>\n",
       "      <td>19002</td>\n",
       "      <td>40.1809</td>\n",
       "      <td>...</td>\n",
       "      <td>888022315787</td>\n",
       "      <td>0cfad38ef15e4749eff68dc83f62c151</td>\n",
       "      <td>misc_net</td>\n",
       "      <td>40.35</td>\n",
       "      <td>0</td>\n",
       "      <td>Dixon PLC</td>\n",
       "      <td>39.244958</td>\n",
       "      <td>-74.475327</td>\n",
       "      <td>64</td>\n",
       "      <td>2019-12-25 03:40:01</td>\n",
       "    </tr>\n",
       "    <tr>\n",
       "      <th>3</th>\n",
       "      <td>115-04-4507</td>\n",
       "      <td>4218196001337</td>\n",
       "      <td>Jonathan</td>\n",
       "      <td>Johnson</td>\n",
       "      <td>M</td>\n",
       "      <td>863 Lawrence Valleys</td>\n",
       "      <td>Ambler</td>\n",
       "      <td>PA</td>\n",
       "      <td>19002</td>\n",
       "      <td>40.1809</td>\n",
       "      <td>...</td>\n",
       "      <td>888022315787</td>\n",
       "      <td>5782693d7c70f062f258cb30bfa8900f</td>\n",
       "      <td>grocery_pos</td>\n",
       "      <td>96.22</td>\n",
       "      <td>0</td>\n",
       "      <td>Lambert-Cooper</td>\n",
       "      <td>39.656925</td>\n",
       "      <td>-75.802342</td>\n",
       "      <td>64</td>\n",
       "      <td>2019-10-19 06:50:38</td>\n",
       "    </tr>\n",
       "    <tr>\n",
       "      <th>4</th>\n",
       "      <td>115-04-4507</td>\n",
       "      <td>4218196001337</td>\n",
       "      <td>Jonathan</td>\n",
       "      <td>Johnson</td>\n",
       "      <td>M</td>\n",
       "      <td>863 Lawrence Valleys</td>\n",
       "      <td>Ambler</td>\n",
       "      <td>PA</td>\n",
       "      <td>19002</td>\n",
       "      <td>40.1809</td>\n",
       "      <td>...</td>\n",
       "      <td>888022315787</td>\n",
       "      <td>35fd7db657d7e30dd608c37f7798186e</td>\n",
       "      <td>gas_transport</td>\n",
       "      <td>71.89</td>\n",
       "      <td>0</td>\n",
       "      <td>Griffith LLC</td>\n",
       "      <td>40.313342</td>\n",
       "      <td>-74.220434</td>\n",
       "      <td>64</td>\n",
       "      <td>2019-02-11 10:13:20</td>\n",
       "    </tr>\n",
       "  </tbody>\n",
       "</table>\n",
       "<p>5 rows × 23 columns</p>\n",
       "</div>"
      ],
      "text/plain": [
       "           ssn         cc_num     first     last gender                street  \\\n",
       "0  115-04-4507  4218196001337  Jonathan  Johnson      M  863 Lawrence Valleys   \n",
       "1  115-04-4507  4218196001337  Jonathan  Johnson      M  863 Lawrence Valleys   \n",
       "2  115-04-4507  4218196001337  Jonathan  Johnson      M  863 Lawrence Valleys   \n",
       "3  115-04-4507  4218196001337  Jonathan  Johnson      M  863 Lawrence Valleys   \n",
       "4  115-04-4507  4218196001337  Jonathan  Johnson      M  863 Lawrence Valleys   \n",
       "\n",
       "     city state    zip      lat  ...      acct_num  \\\n",
       "0  Ambler    PA  19002  40.1809  ...  888022315787   \n",
       "1  Ambler    PA  19002  40.1809  ...  888022315787   \n",
       "2  Ambler    PA  19002  40.1809  ...  888022315787   \n",
       "3  Ambler    PA  19002  40.1809  ...  888022315787   \n",
       "4  Ambler    PA  19002  40.1809  ...  888022315787   \n",
       "\n",
       "                          trans_num       category    amt is_fraud  \\\n",
       "0  91ab12e73ef38206e1121e9648d2408d  gas_transport  69.12        0   \n",
       "1  071553d533a6822a4431c354c434ddcb    grocery_pos  68.11        0   \n",
       "2  0cfad38ef15e4749eff68dc83f62c151       misc_net  40.35        0   \n",
       "3  5782693d7c70f062f258cb30bfa8900f    grocery_pos  96.22        0   \n",
       "4  35fd7db657d7e30dd608c37f7798186e  gas_transport  71.89        0   \n",
       "\n",
       "         merchant  merch_lat merch_long age            timestamp  \n",
       "0  Phillips Group  39.491416 -75.588522  64  2019-05-25 03:39:10  \n",
       "1      Tucker Ltd  40.890319 -75.573359  64  2019-09-26 01:31:59  \n",
       "2       Dixon PLC  39.244958 -74.475327  64  2019-12-25 03:40:01  \n",
       "3  Lambert-Cooper  39.656925 -75.802342  64  2019-10-19 06:50:38  \n",
       "4    Griffith LLC  40.313342 -74.220434  64  2019-02-11 10:13:20  \n",
       "\n",
       "[5 rows x 23 columns]"
      ]
     },
     "execution_count": 19,
     "metadata": {},
     "output_type": "execute_result"
    }
   ],
   "source": [
    "df.head()"
   ]
  },
  {
   "cell_type": "code",
   "execution_count": 20,
   "id": "dbafce26",
   "metadata": {
    "colab": {
     "base_uri": "https://localhost:8080/"
    },
    "id": "dbafce26",
    "outputId": "2403e901-baee-47c8-e755-8d2b1e4b22f1"
   },
   "outputs": [
    {
     "data": {
      "text/plain": [
       "Index(['ssn', 'cc_num', 'first', 'last', 'gender', 'street', 'city', 'state',\n",
       "       'zip', 'lat', 'long', 'city_pop', 'job', 'acct_num', 'trans_num',\n",
       "       'category', 'amt', 'is_fraud', 'merchant', 'merch_lat', 'merch_long',\n",
       "       'age', 'timestamp'],\n",
       "      dtype='object')"
      ]
     },
     "execution_count": 20,
     "metadata": {},
     "output_type": "execute_result"
    }
   ],
   "source": [
    "df.columns"
   ]
  },
  {
   "cell_type": "markdown",
   "id": "a4d108bf",
   "metadata": {
    "id": "a4d108bf"
   },
   "source": [
    "### 2.1 Visualisation"
   ]
  },
  {
   "cell_type": "code",
   "execution_count": 21,
   "id": "5b1c6a44",
   "metadata": {
    "id": "5b1c6a44"
   },
   "outputs": [],
   "source": [
    "import seaborn as sns\n",
    "import matplotlib.pyplot as plt"
   ]
  },
  {
   "cell_type": "markdown",
   "id": "cbd2190c",
   "metadata": {
    "id": "cbd2190c"
   },
   "source": [
    "__The bar chart of the target feature, is_fraud, represents whether the customers are frauds or not.__"
   ]
  },
  {
   "cell_type": "code",
   "execution_count": 22,
   "id": "a55edcb4",
   "metadata": {
    "colab": {
     "base_uri": "https://localhost:8080/",
     "height": 474
    },
    "id": "a55edcb4",
    "outputId": "f8874e21-537a-46ad-a9e5-959f0effcc19"
   },
   "outputs": [
    {
     "data": {
      "image/png": "[encoded data removed]",
      "text/plain": [
       "<Figure size 640x480 with 1 Axes>"
      ]
     },
     "metadata": {},
     "output_type": "display_data"
    }
   ],
   "source": [
    "sns.set(style=\"darkgrid\")\n",
    "ax = sns.countplot(x=\"is_fraud\", data=df, palette=sns.xkcd_palette([\"pastel purple\", \"light green\"]))\n",
    "plt.xlabel('is_fraud')\n",
    "plt.ylabel('Count')\n",
    "plt.show()"
   ]
  },
  {
   "cell_type": "code",
   "execution_count": 23,
   "id": "355a25d0",
   "metadata": {
    "colab": {
     "base_uri": "https://localhost:8080/"
    },
    "id": "355a25d0",
    "outputId": "f0b2543e-745c-4ce2-dccb-a915a9835ec6"
   },
   "outputs": [
    {
     "data": {
      "text/plain": [
       "5034"
      ]
     },
     "execution_count": 23,
     "metadata": {},
     "output_type": "execute_result"
    }
   ],
   "source": [
    "df['is_fraud'].sum()"
   ]
  },
  {
   "cell_type": "markdown",
   "id": "7ebdff47",
   "metadata": {
    "id": "7ebdff47"
   },
   "source": [
    "It can be seen obviously that the the target variable, is_fraud, is imbalanced. In this case, we have a significantly higher number of transactions that are not fraud compared to those that are fraud. This can lead to a bias in the model towards predicting that a transaction is not fraud. We may use the Over-sampling Technique (SMOTE) to address this issue."
   ]
  },
  {
   "cell_type": "markdown",
   "id": "c8a99f85",
   "metadata": {
    "id": "c8a99f85"
   },
   "source": [
    "__The heatmap represents the correlation between features before encoding the categorical data__"
   ]
  },
  {
   "cell_type": "code",
   "execution_count": 24,
   "id": "ec69c03e",
   "metadata": {
    "colab": {
     "base_uri": "https://localhost:8080/",
     "height": 883
    },
    "id": "ec69c03e",
    "outputId": "84824696-491e-4044-d850-fe31f4c2a6f1"
   },
   "outputs": [
    {
     "data": {
      "image/png": "[encoded data removed]",
      "text/plain": [
       "<Figure size 1200x1000 with 2 Axes>"
      ]
     },
     "metadata": {},
     "output_type": "display_data"
    }
   ],
   "source": [
    "import seaborn as sns\n",
    "import matplotlib.pyplot as plt\n",
    "\n",
    "# Compute the correlation matrix\n",
    "corr = df.corr()\n",
    "\n",
    "# Generate a heatmap of the correlation matrix\n",
    "plt.figure(figsize=(12,10))\n",
    "sns.heatmap(corr, annot=True, cmap=plt.cm.Reds)\n",
    "plt.title('Correlation Heatmap')\n",
    "\n",
    "# Add the title to the plot\n",
    "plt.show()\n"
   ]
  },
  {
   "cell_type": "markdown",
   "id": "521c7c3f",
   "metadata": {
    "id": "521c7c3f"
   },
   "source": [
    "It can be seen that the merchant's latitude and longitude are highly correlated with the latitude and longitude of the transaction. We may remove these features since they may not provide any additional information to the model."
   ]
  },
  {
   "cell_type": "markdown",
   "id": "1e53b50d",
   "metadata": {
    "id": "1e53b50d"
   },
   "source": [
    "## 3. Clean data and feature engineering"
   ]
  },
  {
   "cell_type": "markdown",
   "id": "aa66d069",
   "metadata": {
    "id": "aa66d069"
   },
   "source": [
    "### 3.1 Check NA and duplicate"
   ]
  },
  {
   "cell_type": "markdown",
   "id": "5c5854f5",
   "metadata": {
    "id": "5c5854f5"
   },
   "source": [
    "We will check the missing values first."
   ]
  },
  {
   "cell_type": "code",
   "execution_count": 25,
   "id": "3650771c",
   "metadata": {
    "colab": {
     "base_uri": "https://localhost:8080/"
    },
    "id": "3650771c",
    "outputId": "14cf95f9-2a47-4068-8d5a-48dc470be812"
   },
   "outputs": [
    {
     "name": "stdout",
     "output_type": "stream",
     "text": [
      "ssn           0\n",
      "cc_num        0\n",
      "first         0\n",
      "last          0\n",
      "gender        0\n",
      "street        0\n",
      "city          0\n",
      "state         0\n",
      "zip           0\n",
      "lat           0\n",
      "long          0\n",
      "city_pop      0\n",
      "job           0\n",
      "acct_num      0\n",
      "trans_num     0\n",
      "category      0\n",
      "amt           0\n",
      "is_fraud      0\n",
      "merchant      0\n",
      "merch_lat     0\n",
      "merch_long    0\n",
      "age           0\n",
      "timestamp     0\n",
      "dtype: int64\n"
     ]
    }
   ],
   "source": [
    "print(df.isnull().sum())"
   ]
  },
  {
   "cell_type": "markdown",
   "id": "d545faee",
   "metadata": {
    "id": "d545faee"
   },
   "source": [
    "There is no missing values in the dataset."
   ]
  },
  {
   "cell_type": "code",
   "execution_count": 26,
   "id": "48bf621b",
   "metadata": {
    "colab": {
     "base_uri": "https://localhost:8080/"
    },
    "id": "48bf621b",
    "outputId": "343fa6c7-e900-4b73-86be-e7f400994462"
   },
   "outputs": [
    {
     "name": "stdout",
     "output_type": "stream",
     "text": [
      "0\n"
     ]
    }
   ],
   "source": [
    "print(df.duplicated().sum())"
   ]
  },
  {
   "cell_type": "markdown",
   "id": "7b188ed8",
   "metadata": {
    "id": "7b188ed8"
   },
   "source": [
    "Also, there is no duplicate rows in the dataset."
   ]
  },
  {
   "cell_type": "markdown",
   "id": "9d5c4869",
   "metadata": {
    "id": "9d5c4869"
   },
   "source": [
    "### 3.2 Feature engineering"
   ]
  },
  {
   "cell_type": "markdown",
   "id": "c4470015",
   "metadata": {
    "id": "c4470015"
   },
   "source": [
    "There are two new features that may relate to the target variable, which are __transaction amount per account and transaction frequency per merchant.__ We will use these two features calculated from the acct_num, amt, merchant, and trans_num columns instead of just merchant and amount of transaction."
   ]
  },
  {
   "cell_type": "code",
   "execution_count": 27,
   "id": "8598cf41",
   "metadata": {
    "colab": {
     "base_uri": "https://localhost:8080/",
     "height": 835
    },
    "id": "8598cf41",
    "outputId": "6cc3544e-a360-4d26-de98-8502b8ac4422",
    "scrolled": false
   },
   "outputs": [
    {
     "data": {
      "text/html": [
       "<div>\n",
       "<style scoped>\n",
       "    .dataframe tbody tr th:only-of-type {\n",
       "        vertical-align: middle;\n",
       "    }\n",
       "\n",
       "    .dataframe tbody tr th {\n",
       "        vertical-align: top;\n",
       "    }\n",
       "\n",
       "    .dataframe thead th {\n",
       "        text-align: right;\n",
       "    }\n",
       "</style>\n",
       "<table border=\"1\" class=\"dataframe\">\n",
       "  <thead>\n",
       "    <tr style=\"text-align: right;\">\n",
       "      <th></th>\n",
       "      <th>ssn</th>\n",
       "      <th>cc_num</th>\n",
       "      <th>first</th>\n",
       "      <th>last</th>\n",
       "      <th>gender</th>\n",
       "      <th>street</th>\n",
       "      <th>city</th>\n",
       "      <th>state</th>\n",
       "      <th>zip</th>\n",
       "      <th>lat</th>\n",
       "      <th>...</th>\n",
       "      <th>category</th>\n",
       "      <th>amt</th>\n",
       "      <th>is_fraud</th>\n",
       "      <th>merchant</th>\n",
       "      <th>merch_lat</th>\n",
       "      <th>merch_long</th>\n",
       "      <th>age</th>\n",
       "      <th>timestamp</th>\n",
       "      <th>amt_per_acct</th>\n",
       "      <th>freq_per_merch</th>\n",
       "    </tr>\n",
       "  </thead>\n",
       "  <tbody>\n",
       "    <tr>\n",
       "      <th>0</th>\n",
       "      <td>115-04-4507</td>\n",
       "      <td>4218196001337</td>\n",
       "      <td>Jonathan</td>\n",
       "      <td>Johnson</td>\n",
       "      <td>M</td>\n",
       "      <td>863 Lawrence Valleys</td>\n",
       "      <td>Ambler</td>\n",
       "      <td>PA</td>\n",
       "      <td>19002</td>\n",
       "      <td>40.1809</td>\n",
       "      <td>...</td>\n",
       "      <td>gas_transport</td>\n",
       "      <td>69.12</td>\n",
       "      <td>0</td>\n",
       "      <td>Phillips Group</td>\n",
       "      <td>39.491416</td>\n",
       "      <td>-75.588522</td>\n",
       "      <td>64</td>\n",
       "      <td>2019-05-25 03:39:10</td>\n",
       "      <td>206986.20</td>\n",
       "      <td>1302</td>\n",
       "    </tr>\n",
       "    <tr>\n",
       "      <th>1</th>\n",
       "      <td>115-04-4507</td>\n",
       "      <td>4218196001337</td>\n",
       "      <td>Jonathan</td>\n",
       "      <td>Johnson</td>\n",
       "      <td>M</td>\n",
       "      <td>863 Lawrence Valleys</td>\n",
       "      <td>Ambler</td>\n",
       "      <td>PA</td>\n",
       "      <td>19002</td>\n",
       "      <td>40.1809</td>\n",
       "      <td>...</td>\n",
       "      <td>grocery_pos</td>\n",
       "      <td>68.11</td>\n",
       "      <td>0</td>\n",
       "      <td>Tucker Ltd</td>\n",
       "      <td>40.890319</td>\n",
       "      <td>-75.573359</td>\n",
       "      <td>64</td>\n",
       "      <td>2019-09-26 01:31:59</td>\n",
       "      <td>206986.20</td>\n",
       "      <td>350</td>\n",
       "    </tr>\n",
       "    <tr>\n",
       "      <th>2</th>\n",
       "      <td>115-04-4507</td>\n",
       "      <td>4218196001337</td>\n",
       "      <td>Jonathan</td>\n",
       "      <td>Johnson</td>\n",
       "      <td>M</td>\n",
       "      <td>863 Lawrence Valleys</td>\n",
       "      <td>Ambler</td>\n",
       "      <td>PA</td>\n",
       "      <td>19002</td>\n",
       "      <td>40.1809</td>\n",
       "      <td>...</td>\n",
       "      <td>misc_net</td>\n",
       "      <td>40.35</td>\n",
       "      <td>0</td>\n",
       "      <td>Dixon PLC</td>\n",
       "      <td>39.244958</td>\n",
       "      <td>-74.475327</td>\n",
       "      <td>64</td>\n",
       "      <td>2019-12-25 03:40:01</td>\n",
       "      <td>206986.20</td>\n",
       "      <td>375</td>\n",
       "    </tr>\n",
       "    <tr>\n",
       "      <th>3</th>\n",
       "      <td>115-04-4507</td>\n",
       "      <td>4218196001337</td>\n",
       "      <td>Jonathan</td>\n",
       "      <td>Johnson</td>\n",
       "      <td>M</td>\n",
       "      <td>863 Lawrence Valleys</td>\n",
       "      <td>Ambler</td>\n",
       "      <td>PA</td>\n",
       "      <td>19002</td>\n",
       "      <td>40.1809</td>\n",
       "      <td>...</td>\n",
       "      <td>grocery_pos</td>\n",
       "      <td>96.22</td>\n",
       "      <td>0</td>\n",
       "      <td>Lambert-Cooper</td>\n",
       "      <td>39.656925</td>\n",
       "      <td>-75.802342</td>\n",
       "      <td>64</td>\n",
       "      <td>2019-10-19 06:50:38</td>\n",
       "      <td>206986.20</td>\n",
       "      <td>194</td>\n",
       "    </tr>\n",
       "    <tr>\n",
       "      <th>4</th>\n",
       "      <td>115-04-4507</td>\n",
       "      <td>4218196001337</td>\n",
       "      <td>Jonathan</td>\n",
       "      <td>Johnson</td>\n",
       "      <td>M</td>\n",
       "      <td>863 Lawrence Valleys</td>\n",
       "      <td>Ambler</td>\n",
       "      <td>PA</td>\n",
       "      <td>19002</td>\n",
       "      <td>40.1809</td>\n",
       "      <td>...</td>\n",
       "      <td>gas_transport</td>\n",
       "      <td>71.89</td>\n",
       "      <td>0</td>\n",
       "      <td>Griffith LLC</td>\n",
       "      <td>40.313342</td>\n",
       "      <td>-74.220434</td>\n",
       "      <td>64</td>\n",
       "      <td>2019-02-11 10:13:20</td>\n",
       "      <td>206986.20</td>\n",
       "      <td>459</td>\n",
       "    </tr>\n",
       "    <tr>\n",
       "      <th>...</th>\n",
       "      <td>...</td>\n",
       "      <td>...</td>\n",
       "      <td>...</td>\n",
       "      <td>...</td>\n",
       "      <td>...</td>\n",
       "      <td>...</td>\n",
       "      <td>...</td>\n",
       "      <td>...</td>\n",
       "      <td>...</td>\n",
       "      <td>...</td>\n",
       "      <td>...</td>\n",
       "      <td>...</td>\n",
       "      <td>...</td>\n",
       "      <td>...</td>\n",
       "      <td>...</td>\n",
       "      <td>...</td>\n",
       "      <td>...</td>\n",
       "      <td>...</td>\n",
       "      <td>...</td>\n",
       "      <td>...</td>\n",
       "      <td>...</td>\n",
       "    </tr>\n",
       "    <tr>\n",
       "      <th>4260899</th>\n",
       "      <td>107-40-0160</td>\n",
       "      <td>343251790447085</td>\n",
       "      <td>Isaac</td>\n",
       "      <td>Smith</td>\n",
       "      <td>M</td>\n",
       "      <td>67148 Rose Cliff Apt. 314</td>\n",
       "      <td>Saint Petersburg</td>\n",
       "      <td>FL</td>\n",
       "      <td>33710</td>\n",
       "      <td>27.7898</td>\n",
       "      <td>...</td>\n",
       "      <td>health_fitness</td>\n",
       "      <td>7.47</td>\n",
       "      <td>0</td>\n",
       "      <td>Horton, Ware and Reynolds</td>\n",
       "      <td>27.707908</td>\n",
       "      <td>-82.320308</td>\n",
       "      <td>81</td>\n",
       "      <td>2021-07-30 19:22:23</td>\n",
       "      <td>350440.28</td>\n",
       "      <td>117</td>\n",
       "    </tr>\n",
       "    <tr>\n",
       "      <th>4260900</th>\n",
       "      <td>107-40-0160</td>\n",
       "      <td>343251790447085</td>\n",
       "      <td>Isaac</td>\n",
       "      <td>Smith</td>\n",
       "      <td>M</td>\n",
       "      <td>67148 Rose Cliff Apt. 314</td>\n",
       "      <td>Saint Petersburg</td>\n",
       "      <td>FL</td>\n",
       "      <td>33710</td>\n",
       "      <td>27.7898</td>\n",
       "      <td>...</td>\n",
       "      <td>food_dining</td>\n",
       "      <td>2.30</td>\n",
       "      <td>0</td>\n",
       "      <td>Hanson and Sons</td>\n",
       "      <td>27.896372</td>\n",
       "      <td>-83.387356</td>\n",
       "      <td>81</td>\n",
       "      <td>2021-06-28 21:38:46</td>\n",
       "      <td>350440.28</td>\n",
       "      <td>467</td>\n",
       "    </tr>\n",
       "    <tr>\n",
       "      <th>4260901</th>\n",
       "      <td>107-40-0160</td>\n",
       "      <td>343251790447085</td>\n",
       "      <td>Isaac</td>\n",
       "      <td>Smith</td>\n",
       "      <td>M</td>\n",
       "      <td>67148 Rose Cliff Apt. 314</td>\n",
       "      <td>Saint Petersburg</td>\n",
       "      <td>FL</td>\n",
       "      <td>33710</td>\n",
       "      <td>27.7898</td>\n",
       "      <td>...</td>\n",
       "      <td>health_fitness</td>\n",
       "      <td>5.82</td>\n",
       "      <td>0</td>\n",
       "      <td>White LLC</td>\n",
       "      <td>27.110602</td>\n",
       "      <td>-82.426821</td>\n",
       "      <td>81</td>\n",
       "      <td>2021-08-24 19:37:49</td>\n",
       "      <td>350440.28</td>\n",
       "      <td>1687</td>\n",
       "    </tr>\n",
       "    <tr>\n",
       "      <th>4260902</th>\n",
       "      <td>107-40-0160</td>\n",
       "      <td>343251790447085</td>\n",
       "      <td>Isaac</td>\n",
       "      <td>Smith</td>\n",
       "      <td>M</td>\n",
       "      <td>67148 Rose Cliff Apt. 314</td>\n",
       "      <td>Saint Petersburg</td>\n",
       "      <td>FL</td>\n",
       "      <td>33710</td>\n",
       "      <td>27.7898</td>\n",
       "      <td>...</td>\n",
       "      <td>health_fitness</td>\n",
       "      <td>9.16</td>\n",
       "      <td>0</td>\n",
       "      <td>Snyder-Johnson</td>\n",
       "      <td>28.110510</td>\n",
       "      <td>-81.891797</td>\n",
       "      <td>81</td>\n",
       "      <td>2021-08-26 21:16:35</td>\n",
       "      <td>350440.28</td>\n",
       "      <td>136</td>\n",
       "    </tr>\n",
       "    <tr>\n",
       "      <th>4260903</th>\n",
       "      <td>107-40-0160</td>\n",
       "      <td>343251790447085</td>\n",
       "      <td>Isaac</td>\n",
       "      <td>Smith</td>\n",
       "      <td>M</td>\n",
       "      <td>67148 Rose Cliff Apt. 314</td>\n",
       "      <td>Saint Petersburg</td>\n",
       "      <td>FL</td>\n",
       "      <td>33710</td>\n",
       "      <td>27.7898</td>\n",
       "      <td>...</td>\n",
       "      <td>personal_care</td>\n",
       "      <td>8.29</td>\n",
       "      <td>0</td>\n",
       "      <td>Ewing-Russell</td>\n",
       "      <td>27.211428</td>\n",
       "      <td>-83.514176</td>\n",
       "      <td>81</td>\n",
       "      <td>2022-11-24 13:04:28</td>\n",
       "      <td>350440.28</td>\n",
       "      <td>158</td>\n",
       "    </tr>\n",
       "  </tbody>\n",
       "</table>\n",
       "<p>4260904 rows × 25 columns</p>\n",
       "</div>"
      ],
      "text/plain": [
       "                 ssn           cc_num     first     last gender  \\\n",
       "0        115-04-4507    4218196001337  Jonathan  Johnson      M   \n",
       "1        115-04-4507    4218196001337  Jonathan  Johnson      M   \n",
       "2        115-04-4507    4218196001337  Jonathan  Johnson      M   \n",
       "3        115-04-4507    4218196001337  Jonathan  Johnson      M   \n",
       "4        115-04-4507    4218196001337  Jonathan  Johnson      M   \n",
       "...              ...              ...       ...      ...    ...   \n",
       "4260899  107-40-0160  343251790447085     Isaac    Smith      M   \n",
       "4260900  107-40-0160  343251790447085     Isaac    Smith      M   \n",
       "4260901  107-40-0160  343251790447085     Isaac    Smith      M   \n",
       "4260902  107-40-0160  343251790447085     Isaac    Smith      M   \n",
       "4260903  107-40-0160  343251790447085     Isaac    Smith      M   \n",
       "\n",
       "                            street              city state    zip      lat  \\\n",
       "0             863 Lawrence Valleys            Ambler    PA  19002  40.1809   \n",
       "1             863 Lawrence Valleys            Ambler    PA  19002  40.1809   \n",
       "2             863 Lawrence Valleys            Ambler    PA  19002  40.1809   \n",
       "3             863 Lawrence Valleys            Ambler    PA  19002  40.1809   \n",
       "4             863 Lawrence Valleys            Ambler    PA  19002  40.1809   \n",
       "...                            ...               ...   ...    ...      ...   \n",
       "4260899  67148 Rose Cliff Apt. 314  Saint Petersburg    FL  33710  27.7898   \n",
       "4260900  67148 Rose Cliff Apt. 314  Saint Petersburg    FL  33710  27.7898   \n",
       "4260901  67148 Rose Cliff Apt. 314  Saint Petersburg    FL  33710  27.7898   \n",
       "4260902  67148 Rose Cliff Apt. 314  Saint Petersburg    FL  33710  27.7898   \n",
       "4260903  67148 Rose Cliff Apt. 314  Saint Petersburg    FL  33710  27.7898   \n",
       "\n",
       "         ...        category    amt is_fraud                   merchant  \\\n",
       "0        ...   gas_transport  69.12        0             Phillips Group   \n",
       "1        ...     grocery_pos  68.11        0                 Tucker Ltd   \n",
       "2        ...        misc_net  40.35        0                  Dixon PLC   \n",
       "3        ...     grocery_pos  96.22        0             Lambert-Cooper   \n",
       "4        ...   gas_transport  71.89        0               Griffith LLC   \n",
       "...      ...             ...    ...      ...                        ...   \n",
       "4260899  ...  health_fitness   7.47        0  Horton, Ware and Reynolds   \n",
       "4260900  ...     food_dining   2.30        0            Hanson and Sons   \n",
       "4260901  ...  health_fitness   5.82        0                  White LLC   \n",
       "4260902  ...  health_fitness   9.16        0             Snyder-Johnson   \n",
       "4260903  ...   personal_care   8.29        0              Ewing-Russell   \n",
       "\n",
       "         merch_lat merch_long  age            timestamp amt_per_acct  \\\n",
       "0        39.491416 -75.588522   64  2019-05-25 03:39:10    206986.20   \n",
       "1        40.890319 -75.573359   64  2019-09-26 01:31:59    206986.20   \n",
       "2        39.244958 -74.475327   64  2019-12-25 03:40:01    206986.20   \n",
       "3        39.656925 -75.802342   64  2019-10-19 06:50:38    206986.20   \n",
       "4        40.313342 -74.220434   64  2019-02-11 10:13:20    206986.20   \n",
       "...            ...        ...  ...                  ...          ...   \n",
       "4260899  27.707908 -82.320308   81  2021-07-30 19:22:23    350440.28   \n",
       "4260900  27.896372 -83.387356   81  2021-06-28 21:38:46    350440.28   \n",
       "4260901  27.110602 -82.426821   81  2021-08-24 19:37:49    350440.28   \n",
       "4260902  28.110510 -81.891797   81  2021-08-26 21:16:35    350440.28   \n",
       "4260903  27.211428 -83.514176   81  2022-11-24 13:04:28    350440.28   \n",
       "\n",
       "         freq_per_merch  \n",
       "0                  1302  \n",
       "1                   350  \n",
       "2                   375  \n",
       "3                   194  \n",
       "4                   459  \n",
       "...                 ...  \n",
       "4260899             117  \n",
       "4260900             467  \n",
       "4260901            1687  \n",
       "4260902             136  \n",
       "4260903             158  \n",
       "\n",
       "[4260904 rows x 25 columns]"
      ]
     },
     "execution_count": 27,
     "metadata": {},
     "output_type": "execute_result"
    }
   ],
   "source": [
    "import pandas as pd\n",
    "\n",
    "# Calculate transaction amount per account\n",
    "amount_per_acct = df.groupby('acct_num')['amt'].transform('sum')\n",
    "df['amt_per_acct'] = amount_per_acct\n",
    "\n",
    "# Calculate transaction frequency per merchant\n",
    "freq_per_merch = df.groupby('merchant')['trans_num'].transform('count')\n",
    "df['freq_per_merch'] = freq_per_merch\n",
    "\n",
    "# Print the updated DataFrame\n",
    "df"
   ]
  },
  {
   "cell_type": "code",
   "execution_count": 28,
   "id": "dFJXzeeSJSDk",
   "metadata": {
    "id": "dFJXzeeSJSDk"
   },
   "outputs": [
    {
     "data": {
      "text/html": [
       "<div>\n",
       "<style scoped>\n",
       "    .dataframe tbody tr th:only-of-type {\n",
       "        vertical-align: middle;\n",
       "    }\n",
       "\n",
       "    .dataframe tbody tr th {\n",
       "        vertical-align: top;\n",
       "    }\n",
       "\n",
       "    .dataframe thead th {\n",
       "        text-align: right;\n",
       "    }\n",
       "</style>\n",
       "<table border=\"1\" class=\"dataframe\">\n",
       "  <thead>\n",
       "    <tr style=\"text-align: right;\">\n",
       "      <th></th>\n",
       "      <th>ssn</th>\n",
       "      <th>cc_num</th>\n",
       "      <th>gender</th>\n",
       "      <th>street</th>\n",
       "      <th>city</th>\n",
       "      <th>state</th>\n",
       "      <th>zip</th>\n",
       "      <th>lat</th>\n",
       "      <th>long</th>\n",
       "      <th>city_pop</th>\n",
       "      <th>...</th>\n",
       "      <th>amt</th>\n",
       "      <th>is_fraud</th>\n",
       "      <th>merchant</th>\n",
       "      <th>merch_lat</th>\n",
       "      <th>merch_long</th>\n",
       "      <th>age</th>\n",
       "      <th>timestamp</th>\n",
       "      <th>amt_per_acct</th>\n",
       "      <th>freq_per_merch</th>\n",
       "      <th>full_name</th>\n",
       "    </tr>\n",
       "  </thead>\n",
       "  <tbody>\n",
       "    <tr>\n",
       "      <th>0</th>\n",
       "      <td>115-04-4507</td>\n",
       "      <td>4218196001337</td>\n",
       "      <td>M</td>\n",
       "      <td>863 Lawrence Valleys</td>\n",
       "      <td>Ambler</td>\n",
       "      <td>PA</td>\n",
       "      <td>19002</td>\n",
       "      <td>40.1809</td>\n",
       "      <td>-75.2156</td>\n",
       "      <td>32412</td>\n",
       "      <td>...</td>\n",
       "      <td>69.12</td>\n",
       "      <td>0</td>\n",
       "      <td>Phillips Group</td>\n",
       "      <td>39.491416</td>\n",
       "      <td>-75.588522</td>\n",
       "      <td>64</td>\n",
       "      <td>2019-05-25 03:39:10</td>\n",
       "      <td>206986.20</td>\n",
       "      <td>1302</td>\n",
       "      <td>Jonathan Johnson</td>\n",
       "    </tr>\n",
       "    <tr>\n",
       "      <th>1</th>\n",
       "      <td>115-04-4507</td>\n",
       "      <td>4218196001337</td>\n",
       "      <td>M</td>\n",
       "      <td>863 Lawrence Valleys</td>\n",
       "      <td>Ambler</td>\n",
       "      <td>PA</td>\n",
       "      <td>19002</td>\n",
       "      <td>40.1809</td>\n",
       "      <td>-75.2156</td>\n",
       "      <td>32412</td>\n",
       "      <td>...</td>\n",
       "      <td>68.11</td>\n",
       "      <td>0</td>\n",
       "      <td>Tucker Ltd</td>\n",
       "      <td>40.890319</td>\n",
       "      <td>-75.573359</td>\n",
       "      <td>64</td>\n",
       "      <td>2019-09-26 01:31:59</td>\n",
       "      <td>206986.20</td>\n",
       "      <td>350</td>\n",
       "      <td>Jonathan Johnson</td>\n",
       "    </tr>\n",
       "    <tr>\n",
       "      <th>2</th>\n",
       "      <td>115-04-4507</td>\n",
       "      <td>4218196001337</td>\n",
       "      <td>M</td>\n",
       "      <td>863 Lawrence Valleys</td>\n",
       "      <td>Ambler</td>\n",
       "      <td>PA</td>\n",
       "      <td>19002</td>\n",
       "      <td>40.1809</td>\n",
       "      <td>-75.2156</td>\n",
       "      <td>32412</td>\n",
       "      <td>...</td>\n",
       "      <td>40.35</td>\n",
       "      <td>0</td>\n",
       "      <td>Dixon PLC</td>\n",
       "      <td>39.244958</td>\n",
       "      <td>-74.475327</td>\n",
       "      <td>64</td>\n",
       "      <td>2019-12-25 03:40:01</td>\n",
       "      <td>206986.20</td>\n",
       "      <td>375</td>\n",
       "      <td>Jonathan Johnson</td>\n",
       "    </tr>\n",
       "    <tr>\n",
       "      <th>3</th>\n",
       "      <td>115-04-4507</td>\n",
       "      <td>4218196001337</td>\n",
       "      <td>M</td>\n",
       "      <td>863 Lawrence Valleys</td>\n",
       "      <td>Ambler</td>\n",
       "      <td>PA</td>\n",
       "      <td>19002</td>\n",
       "      <td>40.1809</td>\n",
       "      <td>-75.2156</td>\n",
       "      <td>32412</td>\n",
       "      <td>...</td>\n",
       "      <td>96.22</td>\n",
       "      <td>0</td>\n",
       "      <td>Lambert-Cooper</td>\n",
       "      <td>39.656925</td>\n",
       "      <td>-75.802342</td>\n",
       "      <td>64</td>\n",
       "      <td>2019-10-19 06:50:38</td>\n",
       "      <td>206986.20</td>\n",
       "      <td>194</td>\n",
       "      <td>Jonathan Johnson</td>\n",
       "    </tr>\n",
       "    <tr>\n",
       "      <th>4</th>\n",
       "      <td>115-04-4507</td>\n",
       "      <td>4218196001337</td>\n",
       "      <td>M</td>\n",
       "      <td>863 Lawrence Valleys</td>\n",
       "      <td>Ambler</td>\n",
       "      <td>PA</td>\n",
       "      <td>19002</td>\n",
       "      <td>40.1809</td>\n",
       "      <td>-75.2156</td>\n",
       "      <td>32412</td>\n",
       "      <td>...</td>\n",
       "      <td>71.89</td>\n",
       "      <td>0</td>\n",
       "      <td>Griffith LLC</td>\n",
       "      <td>40.313342</td>\n",
       "      <td>-74.220434</td>\n",
       "      <td>64</td>\n",
       "      <td>2019-02-11 10:13:20</td>\n",
       "      <td>206986.20</td>\n",
       "      <td>459</td>\n",
       "      <td>Jonathan Johnson</td>\n",
       "    </tr>\n",
       "    <tr>\n",
       "      <th>...</th>\n",
       "      <td>...</td>\n",
       "      <td>...</td>\n",
       "      <td>...</td>\n",
       "      <td>...</td>\n",
       "      <td>...</td>\n",
       "      <td>...</td>\n",
       "      <td>...</td>\n",
       "      <td>...</td>\n",
       "      <td>...</td>\n",
       "      <td>...</td>\n",
       "      <td>...</td>\n",
       "      <td>...</td>\n",
       "      <td>...</td>\n",
       "      <td>...</td>\n",
       "      <td>...</td>\n",
       "      <td>...</td>\n",
       "      <td>...</td>\n",
       "      <td>...</td>\n",
       "      <td>...</td>\n",
       "      <td>...</td>\n",
       "      <td>...</td>\n",
       "    </tr>\n",
       "    <tr>\n",
       "      <th>4260899</th>\n",
       "      <td>107-40-0160</td>\n",
       "      <td>343251790447085</td>\n",
       "      <td>M</td>\n",
       "      <td>67148 Rose Cliff Apt. 314</td>\n",
       "      <td>Saint Petersburg</td>\n",
       "      <td>FL</td>\n",
       "      <td>33710</td>\n",
       "      <td>27.7898</td>\n",
       "      <td>-82.7243</td>\n",
       "      <td>341043</td>\n",
       "      <td>...</td>\n",
       "      <td>7.47</td>\n",
       "      <td>0</td>\n",
       "      <td>Horton, Ware and Reynolds</td>\n",
       "      <td>27.707908</td>\n",
       "      <td>-82.320308</td>\n",
       "      <td>81</td>\n",
       "      <td>2021-07-30 19:22:23</td>\n",
       "      <td>350440.28</td>\n",
       "      <td>117</td>\n",
       "      <td>Isaac Smith</td>\n",
       "    </tr>\n",
       "    <tr>\n",
       "      <th>4260900</th>\n",
       "      <td>107-40-0160</td>\n",
       "      <td>343251790447085</td>\n",
       "      <td>M</td>\n",
       "      <td>67148 Rose Cliff Apt. 314</td>\n",
       "      <td>Saint Petersburg</td>\n",
       "      <td>FL</td>\n",
       "      <td>33710</td>\n",
       "      <td>27.7898</td>\n",
       "      <td>-82.7243</td>\n",
       "      <td>341043</td>\n",
       "      <td>...</td>\n",
       "      <td>2.30</td>\n",
       "      <td>0</td>\n",
       "      <td>Hanson and Sons</td>\n",
       "      <td>27.896372</td>\n",
       "      <td>-83.387356</td>\n",
       "      <td>81</td>\n",
       "      <td>2021-06-28 21:38:46</td>\n",
       "      <td>350440.28</td>\n",
       "      <td>467</td>\n",
       "      <td>Isaac Smith</td>\n",
       "    </tr>\n",
       "    <tr>\n",
       "      <th>4260901</th>\n",
       "      <td>107-40-0160</td>\n",
       "      <td>343251790447085</td>\n",
       "      <td>M</td>\n",
       "      <td>67148 Rose Cliff Apt. 314</td>\n",
       "      <td>Saint Petersburg</td>\n",
       "      <td>FL</td>\n",
       "      <td>33710</td>\n",
       "      <td>27.7898</td>\n",
       "      <td>-82.7243</td>\n",
       "      <td>341043</td>\n",
       "      <td>...</td>\n",
       "      <td>5.82</td>\n",
       "      <td>0</td>\n",
       "      <td>White LLC</td>\n",
       "      <td>27.110602</td>\n",
       "      <td>-82.426821</td>\n",
       "      <td>81</td>\n",
       "      <td>2021-08-24 19:37:49</td>\n",
       "      <td>350440.28</td>\n",
       "      <td>1687</td>\n",
       "      <td>Isaac Smith</td>\n",
       "    </tr>\n",
       "    <tr>\n",
       "      <th>4260902</th>\n",
       "      <td>107-40-0160</td>\n",
       "      <td>343251790447085</td>\n",
       "      <td>M</td>\n",
       "      <td>67148 Rose Cliff Apt. 314</td>\n",
       "      <td>Saint Petersburg</td>\n",
       "      <td>FL</td>\n",
       "      <td>33710</td>\n",
       "      <td>27.7898</td>\n",
       "      <td>-82.7243</td>\n",
       "      <td>341043</td>\n",
       "      <td>...</td>\n",
       "      <td>9.16</td>\n",
       "      <td>0</td>\n",
       "      <td>Snyder-Johnson</td>\n",
       "      <td>28.110510</td>\n",
       "      <td>-81.891797</td>\n",
       "      <td>81</td>\n",
       "      <td>2021-08-26 21:16:35</td>\n",
       "      <td>350440.28</td>\n",
       "      <td>136</td>\n",
       "      <td>Isaac Smith</td>\n",
       "    </tr>\n",
       "    <tr>\n",
       "      <th>4260903</th>\n",
       "      <td>107-40-0160</td>\n",
       "      <td>343251790447085</td>\n",
       "      <td>M</td>\n",
       "      <td>67148 Rose Cliff Apt. 314</td>\n",
       "      <td>Saint Petersburg</td>\n",
       "      <td>FL</td>\n",
       "      <td>33710</td>\n",
       "      <td>27.7898</td>\n",
       "      <td>-82.7243</td>\n",
       "      <td>341043</td>\n",
       "      <td>...</td>\n",
       "      <td>8.29</td>\n",
       "      <td>0</td>\n",
       "      <td>Ewing-Russell</td>\n",
       "      <td>27.211428</td>\n",
       "      <td>-83.514176</td>\n",
       "      <td>81</td>\n",
       "      <td>2022-11-24 13:04:28</td>\n",
       "      <td>350440.28</td>\n",
       "      <td>158</td>\n",
       "      <td>Isaac Smith</td>\n",
       "    </tr>\n",
       "  </tbody>\n",
       "</table>\n",
       "<p>4260904 rows × 24 columns</p>\n",
       "</div>"
      ],
      "text/plain": [
       "                 ssn           cc_num gender                     street  \\\n",
       "0        115-04-4507    4218196001337      M       863 Lawrence Valleys   \n",
       "1        115-04-4507    4218196001337      M       863 Lawrence Valleys   \n",
       "2        115-04-4507    4218196001337      M       863 Lawrence Valleys   \n",
       "3        115-04-4507    4218196001337      M       863 Lawrence Valleys   \n",
       "4        115-04-4507    4218196001337      M       863 Lawrence Valleys   \n",
       "...              ...              ...    ...                        ...   \n",
       "4260899  107-40-0160  343251790447085      M  67148 Rose Cliff Apt. 314   \n",
       "4260900  107-40-0160  343251790447085      M  67148 Rose Cliff Apt. 314   \n",
       "4260901  107-40-0160  343251790447085      M  67148 Rose Cliff Apt. 314   \n",
       "4260902  107-40-0160  343251790447085      M  67148 Rose Cliff Apt. 314   \n",
       "4260903  107-40-0160  343251790447085      M  67148 Rose Cliff Apt. 314   \n",
       "\n",
       "                     city state    zip      lat     long  city_pop  ...  \\\n",
       "0                  Ambler    PA  19002  40.1809 -75.2156     32412  ...   \n",
       "1                  Ambler    PA  19002  40.1809 -75.2156     32412  ...   \n",
       "2                  Ambler    PA  19002  40.1809 -75.2156     32412  ...   \n",
       "3                  Ambler    PA  19002  40.1809 -75.2156     32412  ...   \n",
       "4                  Ambler    PA  19002  40.1809 -75.2156     32412  ...   \n",
       "...                   ...   ...    ...      ...      ...       ...  ...   \n",
       "4260899  Saint Petersburg    FL  33710  27.7898 -82.7243    341043  ...   \n",
       "4260900  Saint Petersburg    FL  33710  27.7898 -82.7243    341043  ...   \n",
       "4260901  Saint Petersburg    FL  33710  27.7898 -82.7243    341043  ...   \n",
       "4260902  Saint Petersburg    FL  33710  27.7898 -82.7243    341043  ...   \n",
       "4260903  Saint Petersburg    FL  33710  27.7898 -82.7243    341043  ...   \n",
       "\n",
       "           amt is_fraud                   merchant  merch_lat  merch_long age  \\\n",
       "0        69.12        0             Phillips Group  39.491416  -75.588522  64   \n",
       "1        68.11        0                 Tucker Ltd  40.890319  -75.573359  64   \n",
       "2        40.35        0                  Dixon PLC  39.244958  -74.475327  64   \n",
       "3        96.22        0             Lambert-Cooper  39.656925  -75.802342  64   \n",
       "4        71.89        0               Griffith LLC  40.313342  -74.220434  64   \n",
       "...        ...      ...                        ...        ...         ...  ..   \n",
       "4260899   7.47        0  Horton, Ware and Reynolds  27.707908  -82.320308  81   \n",
       "4260900   2.30        0            Hanson and Sons  27.896372  -83.387356  81   \n",
       "4260901   5.82        0                  White LLC  27.110602  -82.426821  81   \n",
       "4260902   9.16        0             Snyder-Johnson  28.110510  -81.891797  81   \n",
       "4260903   8.29        0              Ewing-Russell  27.211428  -83.514176  81   \n",
       "\n",
       "                   timestamp  amt_per_acct  freq_per_merch         full_name  \n",
       "0        2019-05-25 03:39:10     206986.20            1302  Jonathan Johnson  \n",
       "1        2019-09-26 01:31:59     206986.20             350  Jonathan Johnson  \n",
       "2        2019-12-25 03:40:01     206986.20             375  Jonathan Johnson  \n",
       "3        2019-10-19 06:50:38     206986.20             194  Jonathan Johnson  \n",
       "4        2019-02-11 10:13:20     206986.20             459  Jonathan Johnson  \n",
       "...                      ...           ...             ...               ...  \n",
       "4260899  2021-07-30 19:22:23     350440.28             117       Isaac Smith  \n",
       "4260900  2021-06-28 21:38:46     350440.28             467       Isaac Smith  \n",
       "4260901  2021-08-24 19:37:49     350440.28            1687       Isaac Smith  \n",
       "4260902  2021-08-26 21:16:35     350440.28             136       Isaac Smith  \n",
       "4260903  2022-11-24 13:04:28     350440.28             158       Isaac Smith  \n",
       "\n",
       "[4260904 rows x 24 columns]"
      ]
     },
     "execution_count": 28,
     "metadata": {},
     "output_type": "execute_result"
    }
   ],
   "source": [
    "df['full_name'] = df['first'] + ' ' + df['last']\n",
    "df = df.drop(['first', 'last'], axis=1)\n",
    "df"
   ]
  },
  {
   "cell_type": "markdown",
   "id": "209ecf83",
   "metadata": {
    "id": "209ecf83"
   },
   "source": [
    "### 3.3 Select features"
   ]
  },
  {
   "cell_type": "markdown",
   "id": "9c2066da",
   "metadata": {
    "id": "9c2066da"
   },
   "source": [
    "The target variable represents whether the customers have fraudulent behaviour or not. We will decide to choose the features that are relevant to the target in this step."
   ]
  },
  {
   "cell_type": "markdown",
   "id": "1258bb7c",
   "metadata": {
    "id": "1258bb7c"
   },
   "source": [
    "- 'ssn', 'cc_num', 'first', 'last', 'gender', 'dob', 'street', 'city', 'state', 'zip': These features could be used for identity verification and to check if the customer is legitimate or not.\n",
    "- 'amt': Fraudsters might make high-value transactions or transactions that are significantly higher than their usual spending patterns.\n",
    "- 'category', 'merchant': Certain merchants or transaction categories may be more prone to fraudulent behavior.\n",
    "- 'amt_per_acct', 'freq_per_merch': These features could also be indicative of fraudulent behavior, as fraudsters may frequently make transactions with the same merchant or use the same account for multiple transactions."
   ]
  },
  {
   "cell_type": "markdown",
   "id": "77fcf49f",
   "metadata": {
    "id": "77fcf49f"
   },
   "source": [
    "However, the 'amt' and 'merchant' have been calculated into 'amt_per_acct', 'freq_per_merch' that we may use these two features instead of them. The ssn, cc_num, first, and last represent the same as the customers' names. So we will select the 'acct_num' instead for these identity details as ssn and cc_num and also full_name are concerned for privacy. Similar to street, city, state, and zip, we will choose only zip. For dob, we have converted it into age, which is in the \"age\" column."
   ]
  },
  {
   "cell_type": "markdown",
   "id": "36117ff2",
   "metadata": {
    "id": "36117ff2"
   },
   "source": [
    "In conclusion, we will select the features as X to train the model including:\n",
    "- acct_num\n",
    "- zip\n",
    "- age\n",
    "- category\n",
    "- amt_per_act\n",
    "- freq_per_merch"
   ]
  },
  {
   "cell_type": "markdown",
   "id": "0cee3237",
   "metadata": {
    "id": "0cee3237"
   },
   "source": [
    "### 3.4 Convert categorical data"
   ]
  },
  {
   "cell_type": "markdown",
   "id": "ce6b7cb6",
   "metadata": {
    "id": "ce6b7cb6"
   },
   "source": [
    "After we select the features, we have to convert the categorical data into numeric first."
   ]
  },
  {
   "cell_type": "code",
   "execution_count": 29,
   "id": "88a7d832",
   "metadata": {
    "colab": {
     "base_uri": "https://localhost:8080/"
    },
    "id": "88a7d832",
    "outputId": "4899eb19-a512-4b49-bf53-20e3abbb3c13"
   },
   "outputs": [
    {
     "name": "stdout",
     "output_type": "stream",
     "text": [
      "acct_num           object\n",
      "zip                 int64\n",
      "age                 int64\n",
      "category           object\n",
      "amt_per_acct      float64\n",
      "freq_per_merch      int64\n",
      "dtype: object\n"
     ]
    }
   ],
   "source": [
    "print(df[['acct_num', 'zip', 'age', 'category', 'amt_per_acct', 'freq_per_merch']].dtypes)"
   ]
  },
  {
   "cell_type": "code",
   "execution_count": 30,
   "id": "5c59df4d",
   "metadata": {
    "colab": {
     "base_uri": "https://localhost:8080/"
    },
    "id": "5c59df4d",
    "outputId": "2ecd5d55-912f-47ee-82e6-530f5f8c3015"
   },
   "outputs": [
    {
     "data": {
      "text/plain": [
       "14"
      ]
     },
     "execution_count": 30,
     "metadata": {},
     "output_type": "execute_result"
    }
   ],
   "source": [
    "df['category'].nunique()"
   ]
  },
  {
   "cell_type": "code",
   "execution_count": 31,
   "id": "ec3c4d96",
   "metadata": {
    "colab": {
     "base_uri": "https://localhost:8080/"
    },
    "id": "ec3c4d96",
    "outputId": "3ddbd349-3a1e-4437-a23c-51077dbfecf3"
   },
   "outputs": [
    {
     "data": {
      "text/plain": [
       "983"
      ]
     },
     "execution_count": 31,
     "metadata": {},
     "output_type": "execute_result"
    }
   ],
   "source": [
    "df['acct_num'].nunique()"
   ]
  },
  {
   "cell_type": "code",
   "execution_count": 32,
   "id": "2713092d",
   "metadata": {
    "colab": {
     "base_uri": "https://localhost:8080/"
    },
    "id": "2713092d",
    "outputId": "ccf2d2b8-ecd3-4b9d-d870-61c0cb1fc447"
   },
   "outputs": [
    {
     "data": {
      "text/plain": [
       "939"
      ]
     },
     "execution_count": 32,
     "metadata": {},
     "output_type": "execute_result"
    }
   ],
   "source": [
    "df['zip'].nunique()"
   ]
  },
  {
   "cell_type": "markdown",
   "id": "1d895707",
   "metadata": {
    "id": "1d895707"
   },
   "source": [
    "full_name, zip, category, and is_fraud are categorical features. We will use __Label encoding__ due to the large number of unique categories."
   ]
  },
  {
   "cell_type": "code",
   "execution_count": 33,
   "id": "a80ffc95",
   "metadata": {
    "id": "a80ffc95"
   },
   "outputs": [],
   "source": [
    "newdf = df[['acct_num', 'zip', 'category', 'age', 'amt_per_acct', 'freq_per_merch', 'is_fraud']]"
   ]
  },
  {
   "cell_type": "code",
   "execution_count": 34,
   "id": "82424766",
   "metadata": {
    "id": "82424766"
   },
   "outputs": [],
   "source": [
    "from sklearn.preprocessing import LabelEncoder\n",
    "le = LabelEncoder()\n",
    "\n",
    "newdf['acct_num_encoded'] = le.fit_transform(newdf['acct_num'])\n",
    "newdf['zip_encoded'] = le.fit_transform(newdf['zip'])\n",
    "newdf['category_encoded'] = le.fit_transform(newdf['category'])\n",
    "newdf['is_fraud_encoded'] = le.fit_transform(newdf['is_fraud'])"
   ]
  },
  {
   "cell_type": "code",
   "execution_count": 35,
   "id": "449b2d97",
   "metadata": {
    "colab": {
     "base_uri": "https://localhost:8080/",
     "height": 357
    },
    "id": "449b2d97",
    "outputId": "8cab0a16-1b1d-41fe-ee9d-5daf7f3e539b"
   },
   "outputs": [
    {
     "data": {
      "text/html": [
       "<div>\n",
       "<style scoped>\n",
       "    .dataframe tbody tr th:only-of-type {\n",
       "        vertical-align: middle;\n",
       "    }\n",
       "\n",
       "    .dataframe tbody tr th {\n",
       "        vertical-align: top;\n",
       "    }\n",
       "\n",
       "    .dataframe thead th {\n",
       "        text-align: right;\n",
       "    }\n",
       "</style>\n",
       "<table border=\"1\" class=\"dataframe\">\n",
       "  <thead>\n",
       "    <tr style=\"text-align: right;\">\n",
       "      <th></th>\n",
       "      <th>acct_num</th>\n",
       "      <th>zip</th>\n",
       "      <th>category</th>\n",
       "      <th>age</th>\n",
       "      <th>amt_per_acct</th>\n",
       "      <th>freq_per_merch</th>\n",
       "      <th>is_fraud</th>\n",
       "      <th>acct_num_encoded</th>\n",
       "      <th>zip_encoded</th>\n",
       "      <th>category_encoded</th>\n",
       "      <th>is_fraud_encoded</th>\n",
       "    </tr>\n",
       "  </thead>\n",
       "  <tbody>\n",
       "    <tr>\n",
       "      <th>0</th>\n",
       "      <td>888022315787</td>\n",
       "      <td>19002</td>\n",
       "      <td>gas_transport</td>\n",
       "      <td>64</td>\n",
       "      <td>206986.2</td>\n",
       "      <td>1302</td>\n",
       "      <td>0</td>\n",
       "      <td>868</td>\n",
       "      <td>159</td>\n",
       "      <td>2</td>\n",
       "      <td>0</td>\n",
       "    </tr>\n",
       "    <tr>\n",
       "      <th>1</th>\n",
       "      <td>888022315787</td>\n",
       "      <td>19002</td>\n",
       "      <td>grocery_pos</td>\n",
       "      <td>64</td>\n",
       "      <td>206986.2</td>\n",
       "      <td>350</td>\n",
       "      <td>0</td>\n",
       "      <td>868</td>\n",
       "      <td>159</td>\n",
       "      <td>4</td>\n",
       "      <td>0</td>\n",
       "    </tr>\n",
       "    <tr>\n",
       "      <th>2</th>\n",
       "      <td>888022315787</td>\n",
       "      <td>19002</td>\n",
       "      <td>misc_net</td>\n",
       "      <td>64</td>\n",
       "      <td>206986.2</td>\n",
       "      <td>375</td>\n",
       "      <td>0</td>\n",
       "      <td>868</td>\n",
       "      <td>159</td>\n",
       "      <td>8</td>\n",
       "      <td>0</td>\n",
       "    </tr>\n",
       "    <tr>\n",
       "      <th>3</th>\n",
       "      <td>888022315787</td>\n",
       "      <td>19002</td>\n",
       "      <td>grocery_pos</td>\n",
       "      <td>64</td>\n",
       "      <td>206986.2</td>\n",
       "      <td>194</td>\n",
       "      <td>0</td>\n",
       "      <td>868</td>\n",
       "      <td>159</td>\n",
       "      <td>4</td>\n",
       "      <td>0</td>\n",
       "    </tr>\n",
       "    <tr>\n",
       "      <th>4</th>\n",
       "      <td>888022315787</td>\n",
       "      <td>19002</td>\n",
       "      <td>gas_transport</td>\n",
       "      <td>64</td>\n",
       "      <td>206986.2</td>\n",
       "      <td>459</td>\n",
       "      <td>0</td>\n",
       "      <td>868</td>\n",
       "      <td>159</td>\n",
       "      <td>2</td>\n",
       "      <td>0</td>\n",
       "    </tr>\n",
       "  </tbody>\n",
       "</table>\n",
       "</div>"
      ],
      "text/plain": [
       "       acct_num    zip       category  age  amt_per_acct  freq_per_merch  \\\n",
       "0  888022315787  19002  gas_transport   64      206986.2            1302   \n",
       "1  888022315787  19002    grocery_pos   64      206986.2             350   \n",
       "2  888022315787  19002       misc_net   64      206986.2             375   \n",
       "3  888022315787  19002    grocery_pos   64      206986.2             194   \n",
       "4  888022315787  19002  gas_transport   64      206986.2             459   \n",
       "\n",
       "  is_fraud  acct_num_encoded  zip_encoded  category_encoded  is_fraud_encoded  \n",
       "0        0               868          159                 2                 0  \n",
       "1        0               868          159                 4                 0  \n",
       "2        0               868          159                 8                 0  \n",
       "3        0               868          159                 4                 0  \n",
       "4        0               868          159                 2                 0  "
      ]
     },
     "execution_count": 35,
     "metadata": {},
     "output_type": "execute_result"
    }
   ],
   "source": [
    "newdf.head()"
   ]
  },
  {
   "cell_type": "markdown",
   "id": "576d9e1e",
   "metadata": {
    "id": "576d9e1e"
   },
   "source": [
    "### 3.5 Synthetic Minority Over-sampling Technique (SMOTE):"
   ]
  },
  {
   "cell_type": "markdown",
   "id": "a2fe2350",
   "metadata": {
    "id": "a2fe2350"
   },
   "source": [
    "Now we will handle the issue of imbalanced data in is_fraud using oversampling."
   ]
  },
  {
   "cell_type": "code",
   "execution_count": 36,
   "id": "034df45c",
   "metadata": {
    "colab": {
     "base_uri": "https://localhost:8080/"
    },
    "id": "034df45c",
    "outputId": "0efc31f3-52b8-4102-fdd8-0db41d054d7f"
   },
   "outputs": [
    {
     "name": "stdout",
     "output_type": "stream",
     "text": [
      "0    4255870\n",
      "1    4255870\n",
      "Name: is_fraud_encoded, dtype: int64\n"
     ]
    }
   ],
   "source": [
    "from imblearn.over_sampling import SMOTE\n",
    "\n",
    "# Separate the target variable and features\n",
    "cols_to_drop = ['acct_num', 'zip', 'category', 'is_fraud', 'is_fraud_encoded']\n",
    "X = newdf.drop(cols_to_drop, axis=1)\n",
    "y = newdf['is_fraud_encoded']\n",
    "\n",
    "# Apply SMOTE oversampling to balance the target variable\n",
    "oversample = SMOTE()\n",
    "X, y = oversample.fit_resample(X, y)\n",
    "\n",
    "# Check the new balance of the target variable\n",
    "print(y.value_counts())"
   ]
  },
  {
   "cell_type": "markdown",
   "id": "fe62c7e6",
   "metadata": {
    "id": "fe62c7e6"
   },
   "source": [
    "Now that the distribution of fraud and non-fraud is balanced."
   ]
  },
  {
   "cell_type": "markdown",
   "id": "037d1894",
   "metadata": {
    "id": "037d1894"
   },
   "source": [
    "## 4. Split data"
   ]
  },
  {
   "cell_type": "markdown",
   "id": "68764ee7",
   "metadata": {
    "id": "68764ee7"
   },
   "source": [
    "Split data into data and testing set with 80-20% ratio"
   ]
  },
  {
   "cell_type": "code",
   "execution_count": 37,
   "id": "0844bf2c",
   "metadata": {
    "id": "0844bf2c"
   },
   "outputs": [],
   "source": [
    "from sklearn.model_selection import train_test_split\n",
    "X_train, X_test, y_train, y_test = train_test_split(X, y, test_size=0.2, random_state=42)"
   ]
  },
  {
   "cell_type": "code",
   "execution_count": 38,
   "id": "202265a2",
   "metadata": {
    "colab": {
     "base_uri": "https://localhost:8080/"
    },
    "id": "202265a2",
    "outputId": "1fb690be-fc66-470a-91ba-0feeb29941b0"
   },
   "outputs": [
    {
     "name": "stdout",
     "output_type": "stream",
     "text": [
      "(6809392, 6)\n",
      "(1702348, 6)\n",
      "(6809392,)\n",
      "(1702348,)\n"
     ]
    }
   ],
   "source": [
    "print(X_train.shape)\n",
    "print(X_test.shape)\n",
    "print(y_train.shape)\n",
    "print(y_test.shape)"
   ]
  },
  {
   "cell_type": "markdown",
   "id": "ef7d6657",
   "metadata": {
    "id": "ef7d6657"
   },
   "source": [
    "## 5. Scale data"
   ]
  },
  {
   "cell_type": "code",
   "execution_count": 39,
   "id": "d144edf2",
   "metadata": {
    "id": "d144edf2"
   },
   "outputs": [],
   "source": [
    "from sklearn.preprocessing import StandardScaler\n",
    "scaler = StandardScaler()\n",
    "X_train = scaler.fit_transform(X_train)\n",
    "X_test = scaler.fit_transform(X_test)"
   ]
  },
  {
   "cell_type": "markdown",
   "id": "bc9a6bf2",
   "metadata": {
    "id": "bc9a6bf2"
   },
   "source": [
    "## 6. K-fold split"
   ]
  },
  {
   "cell_type": "markdown",
   "id": "7054e66d",
   "metadata": {
    "id": "7054e66d"
   },
   "source": [
    "We will use cross-validation to split the dataset. The test size from spliting data above is 0.2 and we will do the cross validation as 5 with random state = 42."
   ]
  },
  {
   "cell_type": "code",
   "execution_count": 40,
   "id": "ca6ea967",
   "metadata": {
    "id": "ca6ea967"
   },
   "outputs": [],
   "source": [
    "from sklearn.model_selection import StratifiedKFold, StratifiedShuffleSplit\n",
    "cv = StratifiedShuffleSplit(n_splits=5, test_size=.20, random_state=42)"
   ]
  },
  {
   "cell_type": "markdown",
   "id": "a300f239",
   "metadata": {
    "id": "a300f239"
   },
   "source": [
    "Next step is to train the models with different algorithms using K-fold validation and GridSearch to find the best parameters."
   ]
  },
  {
   "cell_type": "code",
   "execution_count": 41,
   "id": "3bb21ea2",
   "metadata": {
    "id": "3bb21ea2"
   },
   "outputs": [],
   "source": [
    "#using sckit-learn library for the models and algorithms\n",
    "from sklearn.metrics import mean_absolute_error, accuracy_score, classification_report, confusion_matrix\n",
    "from sklearn.model_selection import GridSearchCV, StratifiedKFold, StratifiedShuffleSplit\n",
    "\n",
    "\n",
    "from sklearn.linear_model import LogisticRegression\n",
    "from sklearn.neighbors import KNeighborsClassifier\n",
    "from sklearn.naive_bayes import GaussianNB\n",
    "\n",
    "from sklearn.metrics import mean_absolute_error, accuracy_score, classification_report, confusion_matrix, f1_score"
   ]
  },
  {
   "cell_type": "markdown",
   "id": "5bec42d8",
   "metadata": {
    "id": "5bec42d8"
   },
   "source": [
    "## 7 . Logistic Regression"
   ]
  },
  {
   "cell_type": "markdown",
   "id": "64934b00",
   "metadata": {
    "id": "64934b00"
   },
   "source": [
    "We will train the model using logistic regression with grid search to find the best parameters."
   ]
  },
  {
   "cell_type": "code",
   "execution_count": 42,
   "id": "c881057a",
   "metadata": {
    "id": "c881057a"
   },
   "outputs": [],
   "source": [
    "# Defining all the parameters\n",
    "params = {\n",
    "    'penalty': ['l1','l2'],\n",
    "    'C': [0.2,0.3,0.4,0.5,0.6,0.7,0.8,0.9,1,2,3,4,5,6,7,8,9,10]\n",
    "}"
   ]
  },
  {
   "cell_type": "code",
   "execution_count": 43,
   "id": "4866b36a",
   "metadata": {
    "id": "4866b36a"
   },
   "outputs": [],
   "source": [
    "# Building model\n",
    "logreg = LogisticRegression()"
   ]
  },
  {
   "cell_type": "code",
   "execution_count": 44,
   "id": "364885c5",
   "metadata": {
    "id": "364885c5"
   },
   "outputs": [],
   "source": [
    "# Parameter estimating using GridSearch\n",
    "reggrid = GridSearchCV(logreg, param_grid=params, scoring='accuracy', n_jobs =-1, cv=cv, verbose=1)"
   ]
  },
  {
   "cell_type": "code",
   "execution_count": 45,
   "id": "ef18d220",
   "metadata": {
    "colab": {
     "base_uri": "https://localhost:8080/"
    },
    "id": "ef18d220",
    "outputId": "095fb466-a83d-4719-a53e-8987a9bf7ffc"
   },
   "outputs": [
    {
     "name": "stdout",
     "output_type": "stream",
     "text": [
      "Fitting 5 folds for each of 36 candidates, totalling 180 fits\n"
     ]
    },
    {
     "data": {
      "text/html": [
       "<style>#sk-container-id-1 {color: black;background-color: white;}#sk-container-id-1 pre{padding: 0;}#sk-container-id-1 div.sk-toggleable {background-color: white;}#sk-container-id-1 label.sk-toggleable__label {cursor: pointer;display: block;width: 100%;margin-bottom: 0;padding: 0.3em;box-sizing: border-box;text-align: center;}#sk-container-id-1 label.sk-toggleable__label-arrow:before {content: \"▸\";float: left;margin-right: 0.25em;color: #696969;}#sk-container-id-1 label.sk-toggleable__label-arrow:hover:before {color: black;}#sk-container-id-1 div.sk-estimator:hover label.sk-toggleable__label-arrow:before {color: black;}#sk-container-id-1 div.sk-toggleable__content {max-height: 0;max-width: 0;overflow: hidden;text-align: left;background-color: #f0f8ff;}#sk-container-id-1 div.sk-toggleable__content pre {margin: 0.2em;color: black;border-radius: 0.25em;background-color: #f0f8ff;}#sk-container-id-1 input.sk-toggleable__control:checked~div.sk-toggleable__content {max-height: 200px;max-width: 100%;overflow: auto;}#sk-container-id-1 input.sk-toggleable__control:checked~label.sk-toggleable__label-arrow:before {content: \"▾\";}#sk-container-id-1 div.sk-estimator input.sk-toggleable__control:checked~label.sk-toggleable__label {background-color: #d4ebff;}#sk-container-id-1 div.sk-label input.sk-toggleable__control:checked~label.sk-toggleable__label {background-color: #d4ebff;}#sk-container-id-1 input.sk-hidden--visually {border: 0;clip: rect(1px 1px 1px 1px);clip: rect(1px, 1px, 1px, 1px);height: 1px;margin: -1px;overflow: hidden;padding: 0;position: absolute;width: 1px;}#sk-container-id-1 div.sk-estimator {font-family: monospace;background-color: #f0f8ff;border: 1px dotted black;border-radius: 0.25em;box-sizing: border-box;margin-bottom: 0.5em;}#sk-container-id-1 div.sk-estimator:hover {background-color: #d4ebff;}#sk-container-id-1 div.sk-parallel-item::after {content: \"\";width: 100%;border-bottom: 1px solid gray;flex-grow: 1;}#sk-container-id-1 div.sk-label:hover label.sk-toggleable__label {background-color: #d4ebff;}#sk-container-id-1 div.sk-serial::before {content: \"\";position: absolute;border-left: 1px solid gray;box-sizing: border-box;top: 0;bottom: 0;left: 50%;z-index: 0;}#sk-container-id-1 div.sk-serial {display: flex;flex-direction: column;align-items: center;background-color: white;padding-right: 0.2em;padding-left: 0.2em;position: relative;}#sk-container-id-1 div.sk-item {position: relative;z-index: 1;}#sk-container-id-1 div.sk-parallel {display: flex;align-items: stretch;justify-content: center;background-color: white;position: relative;}#sk-container-id-1 div.sk-item::before, #sk-container-id-1 div.sk-parallel-item::before {content: \"\";position: absolute;border-left: 1px solid gray;box-sizing: border-box;top: 0;bottom: 0;left: 50%;z-index: -1;}#sk-container-id-1 div.sk-parallel-item {display: flex;flex-direction: column;z-index: 1;position: relative;background-color: white;}#sk-container-id-1 div.sk-parallel-item:first-child::after {align-self: flex-end;width: 50%;}#sk-container-id-1 div.sk-parallel-item:last-child::after {align-self: flex-start;width: 50%;}#sk-container-id-1 div.sk-parallel-item:only-child::after {width: 0;}#sk-container-id-1 div.sk-dashed-wrapped {border: 1px dashed gray;margin: 0 0.4em 0.5em 0.4em;box-sizing: border-box;padding-bottom: 0.4em;background-color: white;}#sk-container-id-1 div.sk-label label {font-family: monospace;font-weight: bold;display: inline-block;line-height: 1.2em;}#sk-container-id-1 div.sk-label-container {text-align: center;}#sk-container-id-1 div.sk-container {/* jupyter's `normalize.less` sets `[hidden] { display: none; }` but bootstrap.min.css set `[hidden] { display: none !important; }` so we also need the `!important` here to be able to override the default hidden behavior on the sphinx rendered scikit-learn.org. See: https://github.com/scikit-learn/scikit-learn/issues/21755 */display: inline-block !important;position: relative;}#sk-container-id-1 div.sk-text-repr-fallback {display: none;}</style><div id=\"sk-container-id-1\" class=\"sk-top-container\"><div class=\"sk-text-repr-fallback\"><pre>GridSearchCV(cv=StratifiedShuffleSplit(n_splits=5, random_state=42, test_size=0.2,\n",
       "            train_size=None),\n",
       "             estimator=LogisticRegression(), n_jobs=-1,\n",
       "             param_grid={&#x27;C&#x27;: [0.2, 0.3, 0.4, 0.5, 0.6, 0.7, 0.8, 0.9, 1, 2, 3,\n",
       "                               4, 5, 6, 7, 8, 9, 10],\n",
       "                         &#x27;penalty&#x27;: [&#x27;l1&#x27;, &#x27;l2&#x27;]},\n",
       "             scoring=&#x27;accuracy&#x27;, verbose=1)</pre><b>In a Jupyter environment, please rerun this cell to show the HTML representation or trust the notebook. <br />On GitHub, the HTML representation is unable to render, please try loading this page with nbviewer.org.</b></div><div class=\"sk-container\" hidden><div class=\"sk-item sk-dashed-wrapped\"><div class=\"sk-label-container\"><div class=\"sk-label sk-toggleable\"><input class=\"sk-toggleable__control sk-hidden--visually\" id=\"sk-estimator-id-1\" type=\"checkbox\" ><label for=\"sk-estimator-id-1\" class=\"sk-toggleable__label sk-toggleable__label-arrow\">GridSearchCV</label><div class=\"sk-toggleable__content\"><pre>GridSearchCV(cv=StratifiedShuffleSplit(n_splits=5, random_state=42, test_size=0.2,\n",
       "            train_size=None),\n",
       "             estimator=LogisticRegression(), n_jobs=-1,\n",
       "             param_grid={&#x27;C&#x27;: [0.2, 0.3, 0.4, 0.5, 0.6, 0.7, 0.8, 0.9, 1, 2, 3,\n",
       "                               4, 5, 6, 7, 8, 9, 10],\n",
       "                         &#x27;penalty&#x27;: [&#x27;l1&#x27;, &#x27;l2&#x27;]},\n",
       "             scoring=&#x27;accuracy&#x27;, verbose=1)</pre></div></div></div><div class=\"sk-parallel\"><div class=\"sk-parallel-item\"><div class=\"sk-item\"><div class=\"sk-label-container\"><div class=\"sk-label sk-toggleable\"><input class=\"sk-toggleable__control sk-hidden--visually\" id=\"sk-estimator-id-2\" type=\"checkbox\" ><label for=\"sk-estimator-id-2\" class=\"sk-toggleable__label sk-toggleable__label-arrow\">estimator: LogisticRegression</label><div class=\"sk-toggleable__content\"><pre>LogisticRegression()</pre></div></div></div><div class=\"sk-serial\"><div class=\"sk-item\"><div class=\"sk-estimator sk-toggleable\"><input class=\"sk-toggleable__control sk-hidden--visually\" id=\"sk-estimator-id-3\" type=\"checkbox\" ><label for=\"sk-estimator-id-3\" class=\"sk-toggleable__label sk-toggleable__label-arrow\">LogisticRegression</label><div class=\"sk-toggleable__content\"><pre>LogisticRegression()</pre></div></div></div></div></div></div></div></div></div></div>"
      ],
      "text/plain": [
       "GridSearchCV(cv=StratifiedShuffleSplit(n_splits=5, random_state=42, test_size=0.2,\n",
       "            train_size=None),\n",
       "             estimator=LogisticRegression(), n_jobs=-1,\n",
       "             param_grid={'C': [0.2, 0.3, 0.4, 0.5, 0.6, 0.7, 0.8, 0.9, 1, 2, 3,\n",
       "                               4, 5, 6, 7, 8, 9, 10],\n",
       "                         'penalty': ['l1', 'l2']},\n",
       "             scoring='accuracy', verbose=1)"
      ]
     },
     "execution_count": 45,
     "metadata": {},
     "output_type": "execute_result"
    }
   ],
   "source": [
    "# Fit the model\n",
    "reggrid.fit(X_train, y_train)"
   ]
  },
  {
   "cell_type": "code",
   "execution_count": 46,
   "id": "e0eeb109",
   "metadata": {
    "id": "e0eeb109"
   },
   "outputs": [
    {
     "name": "stdout",
     "output_type": "stream",
     "text": [
      "Best Score: 0.6106079908714358\n",
      "Best Params: {'C': 0.2, 'penalty': 'l2'}\n",
      "Best Estimator: LogisticRegression(C=0.2)\n"
     ]
    }
   ],
   "source": [
    "#The best estimtors\n",
    "logreg_grid_val_score = reggrid.best_score_\n",
    "print('Best Score:', logreg_grid_val_score)\n",
    "print('Best Params:', reggrid.best_params_)\n",
    "print('Best Estimator:', reggrid.best_estimator_)"
   ]
  },
  {
   "cell_type": "markdown",
   "id": "ac37d11d",
   "metadata": {
    "id": "ac37d11d"
   },
   "source": [
    "The best hyperparameters are C=0.2 with L2 regularisation. The best accuracy score is 0.6106079908714358."
   ]
  },
  {
   "cell_type": "code",
   "execution_count": 47,
   "id": "e455affb",
   "metadata": {
    "id": "e455affb"
   },
   "outputs": [],
   "source": [
    "#predicting on test feature dataset(X_test)"
   ]
  },
  {
   "cell_type": "code",
   "execution_count": 48,
   "id": "b5686206",
   "metadata": {
    "id": "b5686206"
   },
   "outputs": [],
   "source": [
    "logreg_grid = reggrid.best_estimator_\n",
    "y_pred = logreg_grid.predict(X_test)"
   ]
  },
  {
   "cell_type": "code",
   "execution_count": 49,
   "id": "db5910e9",
   "metadata": {
    "id": "db5910e9"
   },
   "outputs": [
    {
     "data": {
      "text/html": [
       "<div>\n",
       "<style scoped>\n",
       "    .dataframe tbody tr th:only-of-type {\n",
       "        vertical-align: middle;\n",
       "    }\n",
       "\n",
       "    .dataframe tbody tr th {\n",
       "        vertical-align: top;\n",
       "    }\n",
       "\n",
       "    .dataframe thead th {\n",
       "        text-align: right;\n",
       "    }\n",
       "</style>\n",
       "<table border=\"1\" class=\"dataframe\">\n",
       "  <thead>\n",
       "    <tr style=\"text-align: right;\">\n",
       "      <th></th>\n",
       "      <th>Predicted 0</th>\n",
       "      <th>Predicted 1</th>\n",
       "    </tr>\n",
       "  </thead>\n",
       "  <tbody>\n",
       "    <tr>\n",
       "      <th>Actual 0</th>\n",
       "      <td>474250</td>\n",
       "      <td>377296</td>\n",
       "    </tr>\n",
       "    <tr>\n",
       "      <th>Actual 1</th>\n",
       "      <td>284530</td>\n",
       "      <td>566272</td>\n",
       "    </tr>\n",
       "  </tbody>\n",
       "</table>\n",
       "</div>"
      ],
      "text/plain": [
       "          Predicted 0  Predicted 1\n",
       "Actual 0       474250       377296\n",
       "Actual 1       284530       566272"
      ]
     },
     "execution_count": 49,
     "metadata": {},
     "output_type": "execute_result"
    }
   ],
   "source": [
    "pd.DataFrame(confusion_matrix(y_test,y_pred), columns=[\"Predicted 0\", \"Predicted 1\"], index=[\"Actual 0\",\"Actual 1\"] )"
   ]
  },
  {
   "cell_type": "code",
   "execution_count": 50,
   "id": "f53143ee",
   "metadata": {
    "id": "f53143ee"
   },
   "outputs": [
    {
     "name": "stdout",
     "output_type": "stream",
     "text": [
      "logreg Accuracy: 0.6112275515934462\n",
      "logreg f1 score: 0.6311652557722209\n",
      "Classification Report:\n",
      "               precision    recall  f1-score   support\n",
      "\n",
      "           0       0.63      0.56      0.59    851546\n",
      "           1       0.60      0.67      0.63    850802\n",
      "\n",
      "    accuracy                           0.61   1702348\n",
      "   macro avg       0.61      0.61      0.61   1702348\n",
      "weighted avg       0.61      0.61      0.61   1702348\n",
      "\n"
     ]
    }
   ],
   "source": [
    "logreg_grid_score = accuracy_score(y_test, y_pred)\n",
    "logreg_grid_f1 = f1_score(y_test, y_pred)\n",
    "print('logreg Accuracy:', logreg_grid_score)\n",
    "print('logreg f1 score:', logreg_grid_f1)\n",
    "print('Classification Report:\\n', classification_report(y_test, y_pred))"
   ]
  },
  {
   "cell_type": "markdown",
   "id": "b4053ef4",
   "metadata": {
    "id": "b4053ef4"
   },
   "source": [
    "The accuracy score on test set is __0.6112275515934462.__\n",
    "The f1 score on test set is __0.6311652557722209.__"
   ]
  },
  {
   "cell_type": "markdown",
   "id": "0cad37f4",
   "metadata": {
    "id": "0cad37f4"
   },
   "source": [
    "## 8. K-Nearest Neighbor Classifier(KNN)"
   ]
  },
  {
   "cell_type": "markdown",
   "id": "f3280aa1",
   "metadata": {
    "id": "f3280aa1"
   },
   "source": [
    "We will train the model using K-Nearest Neighbor Classifier with grid search to find the best parameters."
   ]
  },
  {
   "cell_type": "code",
   "execution_count": 51,
   "id": "74da778d",
   "metadata": {
    "id": "74da778d"
   },
   "outputs": [],
   "source": [
    "# Defining all the parameters\n",
    "params = {\n",
    "    'n_neighbors': [3,5,7,11],\n",
    "    'weights': ['uniform','distance']\n",
    "}"
   ]
  },
  {
   "cell_type": "code",
   "execution_count": 52,
   "id": "8f117c88",
   "metadata": {
    "id": "8f117c88"
   },
   "outputs": [],
   "source": [
    "# Building model\n",
    "knn = KNeighborsClassifier()"
   ]
  },
  {
   "cell_type": "code",
   "execution_count": 53,
   "id": "f888ff7d",
   "metadata": {
    "id": "f888ff7d"
   },
   "outputs": [],
   "source": [
    "# Parameter estimating using GridSearch\n",
    "knngrid = GridSearchCV(knn, param_grid=params, scoring='accuracy', n_jobs =-1, cv=cv, verbose=1)"
   ]
  },
  {
   "cell_type": "code",
   "execution_count": 54,
   "id": "112a6f6f",
   "metadata": {
    "id": "112a6f6f"
   },
   "outputs": [
    {
     "name": "stdout",
     "output_type": "stream",
     "text": [
      "Fitting 5 folds for each of 8 candidates, totalling 40 fits\n"
     ]
    },
    {
     "data": {
      "text/html": [
       "<style>#sk-container-id-2 {color: black;background-color: white;}#sk-container-id-2 pre{padding: 0;}#sk-container-id-2 div.sk-toggleable {background-color: white;}#sk-container-id-2 label.sk-toggleable__label {cursor: pointer;display: block;width: 100%;margin-bottom: 0;padding: 0.3em;box-sizing: border-box;text-align: center;}#sk-container-id-2 label.sk-toggleable__label-arrow:before {content: \"▸\";float: left;margin-right: 0.25em;color: #696969;}#sk-container-id-2 label.sk-toggleable__label-arrow:hover:before {color: black;}#sk-container-id-2 div.sk-estimator:hover label.sk-toggleable__label-arrow:before {color: black;}#sk-container-id-2 div.sk-toggleable__content {max-height: 0;max-width: 0;overflow: hidden;text-align: left;background-color: #f0f8ff;}#sk-container-id-2 div.sk-toggleable__content pre {margin: 0.2em;color: black;border-radius: 0.25em;background-color: #f0f8ff;}#sk-container-id-2 input.sk-toggleable__control:checked~div.sk-toggleable__content {max-height: 200px;max-width: 100%;overflow: auto;}#sk-container-id-2 input.sk-toggleable__control:checked~label.sk-toggleable__label-arrow:before {content: \"▾\";}#sk-container-id-2 div.sk-estimator input.sk-toggleable__control:checked~label.sk-toggleable__label {background-color: #d4ebff;}#sk-container-id-2 div.sk-label input.sk-toggleable__control:checked~label.sk-toggleable__label {background-color: #d4ebff;}#sk-container-id-2 input.sk-hidden--visually {border: 0;clip: rect(1px 1px 1px 1px);clip: rect(1px, 1px, 1px, 1px);height: 1px;margin: -1px;overflow: hidden;padding: 0;position: absolute;width: 1px;}#sk-container-id-2 div.sk-estimator {font-family: monospace;background-color: #f0f8ff;border: 1px dotted black;border-radius: 0.25em;box-sizing: border-box;margin-bottom: 0.5em;}#sk-container-id-2 div.sk-estimator:hover {background-color: #d4ebff;}#sk-container-id-2 div.sk-parallel-item::after {content: \"\";width: 100%;border-bottom: 1px solid gray;flex-grow: 1;}#sk-container-id-2 div.sk-label:hover label.sk-toggleable__label {background-color: #d4ebff;}#sk-container-id-2 div.sk-serial::before {content: \"\";position: absolute;border-left: 1px solid gray;box-sizing: border-box;top: 0;bottom: 0;left: 50%;z-index: 0;}#sk-container-id-2 div.sk-serial {display: flex;flex-direction: column;align-items: center;background-color: white;padding-right: 0.2em;padding-left: 0.2em;position: relative;}#sk-container-id-2 div.sk-item {position: relative;z-index: 1;}#sk-container-id-2 div.sk-parallel {display: flex;align-items: stretch;justify-content: center;background-color: white;position: relative;}#sk-container-id-2 div.sk-item::before, #sk-container-id-2 div.sk-parallel-item::before {content: \"\";position: absolute;border-left: 1px solid gray;box-sizing: border-box;top: 0;bottom: 0;left: 50%;z-index: -1;}#sk-container-id-2 div.sk-parallel-item {display: flex;flex-direction: column;z-index: 1;position: relative;background-color: white;}#sk-container-id-2 div.sk-parallel-item:first-child::after {align-self: flex-end;width: 50%;}#sk-container-id-2 div.sk-parallel-item:last-child::after {align-self: flex-start;width: 50%;}#sk-container-id-2 div.sk-parallel-item:only-child::after {width: 0;}#sk-container-id-2 div.sk-dashed-wrapped {border: 1px dashed gray;margin: 0 0.4em 0.5em 0.4em;box-sizing: border-box;padding-bottom: 0.4em;background-color: white;}#sk-container-id-2 div.sk-label label {font-family: monospace;font-weight: bold;display: inline-block;line-height: 1.2em;}#sk-container-id-2 div.sk-label-container {text-align: center;}#sk-container-id-2 div.sk-container {/* jupyter's `normalize.less` sets `[hidden] { display: none; }` but bootstrap.min.css set `[hidden] { display: none !important; }` so we also need the `!important` here to be able to override the default hidden behavior on the sphinx rendered scikit-learn.org. See: https://github.com/scikit-learn/scikit-learn/issues/21755 */display: inline-block !important;position: relative;}#sk-container-id-2 div.sk-text-repr-fallback {display: none;}</style><div id=\"sk-container-id-2\" class=\"sk-top-container\"><div class=\"sk-text-repr-fallback\"><pre>GridSearchCV(cv=StratifiedShuffleSplit(n_splits=5, random_state=42, test_size=0.2,\n",
       "            train_size=None),\n",
       "             estimator=KNeighborsClassifier(), n_jobs=-1,\n",
       "             param_grid={&#x27;n_neighbors&#x27;: [3, 5, 7, 11],\n",
       "                         &#x27;weights&#x27;: [&#x27;uniform&#x27;, &#x27;distance&#x27;]},\n",
       "             scoring=&#x27;accuracy&#x27;, verbose=1)</pre><b>In a Jupyter environment, please rerun this cell to show the HTML representation or trust the notebook. <br />On GitHub, the HTML representation is unable to render, please try loading this page with nbviewer.org.</b></div><div class=\"sk-container\" hidden><div class=\"sk-item sk-dashed-wrapped\"><div class=\"sk-label-container\"><div class=\"sk-label sk-toggleable\"><input class=\"sk-toggleable__control sk-hidden--visually\" id=\"sk-estimator-id-4\" type=\"checkbox\" ><label for=\"sk-estimator-id-4\" class=\"sk-toggleable__label sk-toggleable__label-arrow\">GridSearchCV</label><div class=\"sk-toggleable__content\"><pre>GridSearchCV(cv=StratifiedShuffleSplit(n_splits=5, random_state=42, test_size=0.2,\n",
       "            train_size=None),\n",
       "             estimator=KNeighborsClassifier(), n_jobs=-1,\n",
       "             param_grid={&#x27;n_neighbors&#x27;: [3, 5, 7, 11],\n",
       "                         &#x27;weights&#x27;: [&#x27;uniform&#x27;, &#x27;distance&#x27;]},\n",
       "             scoring=&#x27;accuracy&#x27;, verbose=1)</pre></div></div></div><div class=\"sk-parallel\"><div class=\"sk-parallel-item\"><div class=\"sk-item\"><div class=\"sk-label-container\"><div class=\"sk-label sk-toggleable\"><input class=\"sk-toggleable__control sk-hidden--visually\" id=\"sk-estimator-id-5\" type=\"checkbox\" ><label for=\"sk-estimator-id-5\" class=\"sk-toggleable__label sk-toggleable__label-arrow\">estimator: KNeighborsClassifier</label><div class=\"sk-toggleable__content\"><pre>KNeighborsClassifier()</pre></div></div></div><div class=\"sk-serial\"><div class=\"sk-item\"><div class=\"sk-estimator sk-toggleable\"><input class=\"sk-toggleable__control sk-hidden--visually\" id=\"sk-estimator-id-6\" type=\"checkbox\" ><label for=\"sk-estimator-id-6\" class=\"sk-toggleable__label sk-toggleable__label-arrow\">KNeighborsClassifier</label><div class=\"sk-toggleable__content\"><pre>KNeighborsClassifier()</pre></div></div></div></div></div></div></div></div></div></div>"
      ],
      "text/plain": [
       "GridSearchCV(cv=StratifiedShuffleSplit(n_splits=5, random_state=42, test_size=0.2,\n",
       "            train_size=None),\n",
       "             estimator=KNeighborsClassifier(), n_jobs=-1,\n",
       "             param_grid={'n_neighbors': [3, 5, 7, 11],\n",
       "                         'weights': ['uniform', 'distance']},\n",
       "             scoring='accuracy', verbose=1)"
      ]
     },
     "execution_count": 54,
     "metadata": {},
     "output_type": "execute_result"
    }
   ],
   "source": [
    "# Fit the model\n",
    "knngrid.fit(X_train, y_train)"
   ]
  },
  {
   "cell_type": "code",
   "execution_count": 55,
   "id": "2a685518",
   "metadata": {
    "id": "2a685518"
   },
   "outputs": [
    {
     "name": "stdout",
     "output_type": "stream",
     "text": [
      "Best Score: 0.9347658639277057\n",
      "Best Params: {'n_neighbors': 7, 'weights': 'uniform'}\n",
      "Best Estimator: KNeighborsClassifier(n_neighbors=7)\n"
     ]
    }
   ],
   "source": [
    "#The best estimtors\n",
    "knn_grid_val_score = knngrid.best_score_\n",
    "print('Best Score:', knn_grid_val_score)\n",
    "print('Best Params:', knngrid.best_params_)\n",
    "print('Best Estimator:', knngrid.best_estimator_)"
   ]
  },
  {
   "cell_type": "markdown",
   "id": "49fadd8d",
   "metadata": {
    "id": "49fadd8d"
   },
   "source": [
    "The best hyperparameters are n_neighbors=7 using weight uniform. The best accuracy score is 0.9347658639277057."
   ]
  },
  {
   "cell_type": "code",
   "execution_count": 56,
   "id": "a2963e3c",
   "metadata": {
    "id": "a2963e3c"
   },
   "outputs": [],
   "source": [
    "#predicting on test feature dataset(X_test)\n",
    "knn_grid= knngrid.best_estimator_\n",
    "y_pred = knn_grid.predict(X_test)"
   ]
  },
  {
   "cell_type": "code",
   "execution_count": 57,
   "id": "d8f907fb",
   "metadata": {
    "id": "d8f907fb"
   },
   "outputs": [
    {
     "data": {
      "text/html": [
       "<div>\n",
       "<style scoped>\n",
       "    .dataframe tbody tr th:only-of-type {\n",
       "        vertical-align: middle;\n",
       "    }\n",
       "\n",
       "    .dataframe tbody tr th {\n",
       "        vertical-align: top;\n",
       "    }\n",
       "\n",
       "    .dataframe thead th {\n",
       "        text-align: right;\n",
       "    }\n",
       "</style>\n",
       "<table border=\"1\" class=\"dataframe\">\n",
       "  <thead>\n",
       "    <tr style=\"text-align: right;\">\n",
       "      <th></th>\n",
       "      <th>Predicted 0</th>\n",
       "      <th>Predicted 1</th>\n",
       "    </tr>\n",
       "  </thead>\n",
       "  <tbody>\n",
       "    <tr>\n",
       "      <th>Actual 0</th>\n",
       "      <td>771439</td>\n",
       "      <td>80107</td>\n",
       "    </tr>\n",
       "    <tr>\n",
       "      <th>Actual 1</th>\n",
       "      <td>29030</td>\n",
       "      <td>821772</td>\n",
       "    </tr>\n",
       "  </tbody>\n",
       "</table>\n",
       "</div>"
      ],
      "text/plain": [
       "          Predicted 0  Predicted 1\n",
       "Actual 0       771439        80107\n",
       "Actual 1        29030       821772"
      ]
     },
     "execution_count": 57,
     "metadata": {},
     "output_type": "execute_result"
    }
   ],
   "source": [
    "pd.DataFrame(confusion_matrix(y_test,y_pred), columns=[\"Predicted 0\", \"Predicted 1\"], index=[\"Actual 0\",\"Actual 1\"] )"
   ]
  },
  {
   "cell_type": "code",
   "execution_count": 58,
   "id": "f18988d8",
   "metadata": {
    "id": "f18988d8"
   },
   "outputs": [
    {
     "name": "stdout",
     "output_type": "stream",
     "text": [
      "knn Accuracy: 0.9358903114991765\n",
      "knn f1 score: 0.9377313955020908\n",
      "Classification Report:\n",
      "               precision    recall  f1-score   support\n",
      "\n",
      "           0       0.96      0.91      0.93    851546\n",
      "           1       0.91      0.97      0.94    850802\n",
      "\n",
      "    accuracy                           0.94   1702348\n",
      "   macro avg       0.94      0.94      0.94   1702348\n",
      "weighted avg       0.94      0.94      0.94   1702348\n",
      "\n"
     ]
    }
   ],
   "source": [
    "knn_grid_score = accuracy_score(y_test, y_pred)\n",
    "knn_grid_f1 = f1_score(y_test, y_pred)\n",
    "print('knn Accuracy:', knn_grid_score)\n",
    "print('knn f1 score:', knn_grid_f1)\n",
    "print('Classification Report:\\n', classification_report(y_test, y_pred))"
   ]
  },
  {
   "cell_type": "markdown",
   "id": "478d36e0",
   "metadata": {
    "id": "478d36e0"
   },
   "source": [
    "The accuracy score on test set is __0.9358903114991765.__ The f1 score on test set is __0.9377313955020908.__"
   ]
  },
  {
   "cell_type": "markdown",
   "id": "0cf734aa",
   "metadata": {
    "id": "0cf734aa"
   },
   "source": [
    "## 9. Gaussian Naive Bayes"
   ]
  },
  {
   "cell_type": "markdown",
   "id": "28399901",
   "metadata": {
    "id": "28399901"
   },
   "source": [
    "We will train the model using Gaussian Naive Bayes with grid search to find the best parameters."
   ]
  },
  {
   "cell_type": "code",
   "execution_count": 59,
   "id": "f9a8c624",
   "metadata": {
    "id": "f9a8c624"
   },
   "outputs": [],
   "source": [
    "# Defining all the parameters\n",
    "import numpy as np\n",
    "\n",
    "params = {\n",
    "    'var_smoothing': np.logspace(-10, -1, num=10)\n",
    "}"
   ]
  },
  {
   "cell_type": "code",
   "execution_count": 60,
   "id": "840dbb1a",
   "metadata": {
    "id": "840dbb1a"
   },
   "outputs": [],
   "source": [
    "# Building model\n",
    "gb = GaussianNB()"
   ]
  },
  {
   "cell_type": "code",
   "execution_count": 61,
   "id": "1f3cbe0c",
   "metadata": {
    "id": "1f3cbe0c"
   },
   "outputs": [],
   "source": [
    "# Parameter estimating using GridSearch\n",
    "gbgrid = GridSearchCV(gb, param_grid=params, scoring='accuracy', n_jobs =-1, cv=cv, verbose=1)"
   ]
  },
  {
   "cell_type": "code",
   "execution_count": 62,
   "id": "e0dc83df",
   "metadata": {
    "id": "e0dc83df"
   },
   "outputs": [
    {
     "name": "stdout",
     "output_type": "stream",
     "text": [
      "Fitting 5 folds for each of 10 candidates, totalling 50 fits\n"
     ]
    },
    {
     "data": {
      "text/html": [
       "<style>#sk-container-id-3 {color: black;background-color: white;}#sk-container-id-3 pre{padding: 0;}#sk-container-id-3 div.sk-toggleable {background-color: white;}#sk-container-id-3 label.sk-toggleable__label {cursor: pointer;display: block;width: 100%;margin-bottom: 0;padding: 0.3em;box-sizing: border-box;text-align: center;}#sk-container-id-3 label.sk-toggleable__label-arrow:before {content: \"▸\";float: left;margin-right: 0.25em;color: #696969;}#sk-container-id-3 label.sk-toggleable__label-arrow:hover:before {color: black;}#sk-container-id-3 div.sk-estimator:hover label.sk-toggleable__label-arrow:before {color: black;}#sk-container-id-3 div.sk-toggleable__content {max-height: 0;max-width: 0;overflow: hidden;text-align: left;background-color: #f0f8ff;}#sk-container-id-3 div.sk-toggleable__content pre {margin: 0.2em;color: black;border-radius: 0.25em;background-color: #f0f8ff;}#sk-container-id-3 input.sk-toggleable__control:checked~div.sk-toggleable__content {max-height: 200px;max-width: 100%;overflow: auto;}#sk-container-id-3 input.sk-toggleable__control:checked~label.sk-toggleable__label-arrow:before {content: \"▾\";}#sk-container-id-3 div.sk-estimator input.sk-toggleable__control:checked~label.sk-toggleable__label {background-color: #d4ebff;}#sk-container-id-3 div.sk-label input.sk-toggleable__control:checked~label.sk-toggleable__label {background-color: #d4ebff;}#sk-container-id-3 input.sk-hidden--visually {border: 0;clip: rect(1px 1px 1px 1px);clip: rect(1px, 1px, 1px, 1px);height: 1px;margin: -1px;overflow: hidden;padding: 0;position: absolute;width: 1px;}#sk-container-id-3 div.sk-estimator {font-family: monospace;background-color: #f0f8ff;border: 1px dotted black;border-radius: 0.25em;box-sizing: border-box;margin-bottom: 0.5em;}#sk-container-id-3 div.sk-estimator:hover {background-color: #d4ebff;}#sk-container-id-3 div.sk-parallel-item::after {content: \"\";width: 100%;border-bottom: 1px solid gray;flex-grow: 1;}#sk-container-id-3 div.sk-label:hover label.sk-toggleable__label {background-color: #d4ebff;}#sk-container-id-3 div.sk-serial::before {content: \"\";position: absolute;border-left: 1px solid gray;box-sizing: border-box;top: 0;bottom: 0;left: 50%;z-index: 0;}#sk-container-id-3 div.sk-serial {display: flex;flex-direction: column;align-items: center;background-color: white;padding-right: 0.2em;padding-left: 0.2em;position: relative;}#sk-container-id-3 div.sk-item {position: relative;z-index: 1;}#sk-container-id-3 div.sk-parallel {display: flex;align-items: stretch;justify-content: center;background-color: white;position: relative;}#sk-container-id-3 div.sk-item::before, #sk-container-id-3 div.sk-parallel-item::before {content: \"\";position: absolute;border-left: 1px solid gray;box-sizing: border-box;top: 0;bottom: 0;left: 50%;z-index: -1;}#sk-container-id-3 div.sk-parallel-item {display: flex;flex-direction: column;z-index: 1;position: relative;background-color: white;}#sk-container-id-3 div.sk-parallel-item:first-child::after {align-self: flex-end;width: 50%;}#sk-container-id-3 div.sk-parallel-item:last-child::after {align-self: flex-start;width: 50%;}#sk-container-id-3 div.sk-parallel-item:only-child::after {width: 0;}#sk-container-id-3 div.sk-dashed-wrapped {border: 1px dashed gray;margin: 0 0.4em 0.5em 0.4em;box-sizing: border-box;padding-bottom: 0.4em;background-color: white;}#sk-container-id-3 div.sk-label label {font-family: monospace;font-weight: bold;display: inline-block;line-height: 1.2em;}#sk-container-id-3 div.sk-label-container {text-align: center;}#sk-container-id-3 div.sk-container {/* jupyter's `normalize.less` sets `[hidden] { display: none; }` but bootstrap.min.css set `[hidden] { display: none !important; }` so we also need the `!important` here to be able to override the default hidden behavior on the sphinx rendered scikit-learn.org. See: https://github.com/scikit-learn/scikit-learn/issues/21755 */display: inline-block !important;position: relative;}#sk-container-id-3 div.sk-text-repr-fallback {display: none;}</style><div id=\"sk-container-id-3\" class=\"sk-top-container\"><div class=\"sk-text-repr-fallback\"><pre>GridSearchCV(cv=StratifiedShuffleSplit(n_splits=5, random_state=42, test_size=0.2,\n",
       "            train_size=None),\n",
       "             estimator=GaussianNB(), n_jobs=-1,\n",
       "             param_grid={&#x27;var_smoothing&#x27;: array([1.e-10, 1.e-09, 1.e-08, 1.e-07, 1.e-06, 1.e-05, 1.e-04, 1.e-03,\n",
       "       1.e-02, 1.e-01])},\n",
       "             scoring=&#x27;accuracy&#x27;, verbose=1)</pre><b>In a Jupyter environment, please rerun this cell to show the HTML representation or trust the notebook. <br />On GitHub, the HTML representation is unable to render, please try loading this page with nbviewer.org.</b></div><div class=\"sk-container\" hidden><div class=\"sk-item sk-dashed-wrapped\"><div class=\"sk-label-container\"><div class=\"sk-label sk-toggleable\"><input class=\"sk-toggleable__control sk-hidden--visually\" id=\"sk-estimator-id-7\" type=\"checkbox\" ><label for=\"sk-estimator-id-7\" class=\"sk-toggleable__label sk-toggleable__label-arrow\">GridSearchCV</label><div class=\"sk-toggleable__content\"><pre>GridSearchCV(cv=StratifiedShuffleSplit(n_splits=5, random_state=42, test_size=0.2,\n",
       "            train_size=None),\n",
       "             estimator=GaussianNB(), n_jobs=-1,\n",
       "             param_grid={&#x27;var_smoothing&#x27;: array([1.e-10, 1.e-09, 1.e-08, 1.e-07, 1.e-06, 1.e-05, 1.e-04, 1.e-03,\n",
       "       1.e-02, 1.e-01])},\n",
       "             scoring=&#x27;accuracy&#x27;, verbose=1)</pre></div></div></div><div class=\"sk-parallel\"><div class=\"sk-parallel-item\"><div class=\"sk-item\"><div class=\"sk-label-container\"><div class=\"sk-label sk-toggleable\"><input class=\"sk-toggleable__control sk-hidden--visually\" id=\"sk-estimator-id-8\" type=\"checkbox\" ><label for=\"sk-estimator-id-8\" class=\"sk-toggleable__label sk-toggleable__label-arrow\">estimator: GaussianNB</label><div class=\"sk-toggleable__content\"><pre>GaussianNB()</pre></div></div></div><div class=\"sk-serial\"><div class=\"sk-item\"><div class=\"sk-estimator sk-toggleable\"><input class=\"sk-toggleable__control sk-hidden--visually\" id=\"sk-estimator-id-9\" type=\"checkbox\" ><label for=\"sk-estimator-id-9\" class=\"sk-toggleable__label sk-toggleable__label-arrow\">GaussianNB</label><div class=\"sk-toggleable__content\"><pre>GaussianNB()</pre></div></div></div></div></div></div></div></div></div></div>"
      ],
      "text/plain": [
       "GridSearchCV(cv=StratifiedShuffleSplit(n_splits=5, random_state=42, test_size=0.2,\n",
       "            train_size=None),\n",
       "             estimator=GaussianNB(), n_jobs=-1,\n",
       "             param_grid={'var_smoothing': array([1.e-10, 1.e-09, 1.e-08, 1.e-07, 1.e-06, 1.e-05, 1.e-04, 1.e-03,\n",
       "       1.e-02, 1.e-01])},\n",
       "             scoring='accuracy', verbose=1)"
      ]
     },
     "execution_count": 62,
     "metadata": {},
     "output_type": "execute_result"
    }
   ],
   "source": [
    "# Fit the model\n",
    "gbgrid.fit(X_train, y_train)"
   ]
  },
  {
   "cell_type": "code",
   "execution_count": 63,
   "id": "bafa683d",
   "metadata": {
    "id": "bafa683d"
   },
   "outputs": [
    {
     "name": "stdout",
     "output_type": "stream",
     "text": [
      "Best Score: 0.6118201396746701\n",
      "Best Estimator: GaussianNB(var_smoothing=1e-05)\n"
     ]
    }
   ],
   "source": [
    "#The best estimtors\n",
    "gb_grid_val_score = gbgrid.best_score_\n",
    "print('Best Score:', gb_grid_val_score)\n",
    "print('Best Estimator:', gbgrid.best_estimator_)"
   ]
  },
  {
   "cell_type": "markdown",
   "id": "bc93aaf0",
   "metadata": {
    "id": "bc93aaf0"
   },
   "source": [
    "The best hyperparameters is var_smoothing=1e-05. The best accuracy score is 0.6118201396746701."
   ]
  },
  {
   "cell_type": "code",
   "execution_count": 64,
   "id": "7e0d789a",
   "metadata": {
    "id": "7e0d789a"
   },
   "outputs": [],
   "source": [
    "#predicting on test feature dataset(X_test)\n",
    "gb_grid= gbgrid.best_estimator_\n",
    "y_pred = gb_grid.predict(X_test)"
   ]
  },
  {
   "cell_type": "code",
   "execution_count": 65,
   "id": "8c0de016",
   "metadata": {
    "id": "8c0de016"
   },
   "outputs": [
    {
     "data": {
      "text/html": [
       "<div>\n",
       "<style scoped>\n",
       "    .dataframe tbody tr th:only-of-type {\n",
       "        vertical-align: middle;\n",
       "    }\n",
       "\n",
       "    .dataframe tbody tr th {\n",
       "        vertical-align: top;\n",
       "    }\n",
       "\n",
       "    .dataframe thead th {\n",
       "        text-align: right;\n",
       "    }\n",
       "</style>\n",
       "<table border=\"1\" class=\"dataframe\">\n",
       "  <thead>\n",
       "    <tr style=\"text-align: right;\">\n",
       "      <th></th>\n",
       "      <th>Predicted 0</th>\n",
       "      <th>Predicted 1</th>\n",
       "    </tr>\n",
       "  </thead>\n",
       "  <tbody>\n",
       "    <tr>\n",
       "      <th>Actual 0</th>\n",
       "      <td>392543</td>\n",
       "      <td>459003</td>\n",
       "    </tr>\n",
       "    <tr>\n",
       "      <th>Actual 1</th>\n",
       "      <td>201767</td>\n",
       "      <td>649035</td>\n",
       "    </tr>\n",
       "  </tbody>\n",
       "</table>\n",
       "</div>"
      ],
      "text/plain": [
       "          Predicted 0  Predicted 1\n",
       "Actual 0       392543       459003\n",
       "Actual 1       201767       649035"
      ]
     },
     "execution_count": 65,
     "metadata": {},
     "output_type": "execute_result"
    }
   ],
   "source": [
    "pd.DataFrame(confusion_matrix(y_test,y_pred), columns=[\"Predicted 0\", \"Predicted 1\"], index=[\"Actual 0\",\"Actual 1\"] )"
   ]
  },
  {
   "cell_type": "code",
   "execution_count": 66,
   "id": "390e011b",
   "metadata": {
    "id": "390e011b"
   },
   "outputs": [
    {
     "name": "stdout",
     "output_type": "stream",
     "text": [
      "gb Accuracy: 0.6118478712930611\n",
      "gb f1 score: 0.6626728063547814\n",
      "Classification Report:\n",
      "               precision    recall  f1-score   support\n",
      "\n",
      "           0       0.66      0.46      0.54    851546\n",
      "           1       0.59      0.76      0.66    850802\n",
      "\n",
      "    accuracy                           0.61   1702348\n",
      "   macro avg       0.62      0.61      0.60   1702348\n",
      "weighted avg       0.62      0.61      0.60   1702348\n",
      "\n"
     ]
    }
   ],
   "source": [
    "gb_grid_score = accuracy_score(y_test, y_pred)\n",
    "gb_grid_f1 = f1_score(y_test, y_pred)\n",
    "print('gb Accuracy:', gb_grid_score)\n",
    "print('gb f1 score:', gb_grid_f1)\n",
    "print('Classification Report:\\n', classification_report(y_test, y_pred))"
   ]
  },
  {
   "cell_type": "markdown",
   "id": "539ccdc2",
   "metadata": {
    "id": "539ccdc2"
   },
   "source": [
    "The accuracy score on test set is __0.6118478712930611.__ The f1 score on test set is __0.6626728063547814.__"
   ]
  },
  {
   "cell_type": "markdown",
   "id": "23386289",
   "metadata": {
    "id": "23386289"
   },
   "source": [
    "## 10. Conclusion"
   ]
  },
  {
   "cell_type": "markdown",
   "id": "c3c60293",
   "metadata": {
    "id": "c3c60293"
   },
   "source": [
    "After we trained and tested all the models, the result represents in the table below."
   ]
  },
  {
   "cell_type": "code",
   "execution_count": 67,
   "id": "125c54df",
   "metadata": {
    "id": "125c54df"
   },
   "outputs": [],
   "source": [
    "score_df = pd.DataFrame(\n",
    "    [\n",
    "        ['Logistic Regression', logreg_grid_score, logreg_grid_val_score],\n",
    "        ['K-Nearest Neighbors', knn_grid_score, knn_grid_val_score],\n",
    "        ['Gaussian Naïve Bayes', gb_grid_score, gb_grid_val_score],\n",
    "    ],\n",
    "        columns= ['Model', 'Test Score', 'Validation Score']\n",
    ")\n",
    "score_df['Test Score'] = score_df['Test Score']*100\n",
    "score_df['Validation Score'] = score_df['Validation Score']*100"
   ]
  },
  {
   "cell_type": "code",
   "execution_count": 68,
   "id": "2138fa59",
   "metadata": {
    "id": "2138fa59"
   },
   "outputs": [
    {
     "data": {
      "text/html": [
       "<div>\n",
       "<style scoped>\n",
       "    .dataframe tbody tr th:only-of-type {\n",
       "        vertical-align: middle;\n",
       "    }\n",
       "\n",
       "    .dataframe tbody tr th {\n",
       "        vertical-align: top;\n",
       "    }\n",
       "\n",
       "    .dataframe thead th {\n",
       "        text-align: right;\n",
       "    }\n",
       "</style>\n",
       "<table border=\"1\" class=\"dataframe\">\n",
       "  <thead>\n",
       "    <tr style=\"text-align: right;\">\n",
       "      <th></th>\n",
       "      <th>Model</th>\n",
       "      <th>Test Score</th>\n",
       "      <th>Validation Score</th>\n",
       "    </tr>\n",
       "  </thead>\n",
       "  <tbody>\n",
       "    <tr>\n",
       "      <th>0</th>\n",
       "      <td>Logistic Regression</td>\n",
       "      <td>61.122755</td>\n",
       "      <td>61.060799</td>\n",
       "    </tr>\n",
       "    <tr>\n",
       "      <th>1</th>\n",
       "      <td>K-Nearest Neighbors</td>\n",
       "      <td>93.589031</td>\n",
       "      <td>93.476586</td>\n",
       "    </tr>\n",
       "    <tr>\n",
       "      <th>2</th>\n",
       "      <td>Gaussian Naïve Bayes</td>\n",
       "      <td>61.184787</td>\n",
       "      <td>61.182014</td>\n",
       "    </tr>\n",
       "  </tbody>\n",
       "</table>\n",
       "</div>"
      ],
      "text/plain": [
       "                  Model  Test Score  Validation Score\n",
       "0   Logistic Regression   61.122755         61.060799\n",
       "1   K-Nearest Neighbors   93.589031         93.476586\n",
       "2  Gaussian Naïve Bayes   61.184787         61.182014"
      ]
     },
     "execution_count": 68,
     "metadata": {},
     "output_type": "execute_result"
    }
   ],
   "source": [
    "score_df"
   ]
  },
  {
   "cell_type": "markdown",
   "id": "9e592799",
   "metadata": {
    "id": "9e592799"
   },
   "source": [
    "It can be seen that K-Nearest Neighbors provided the best validation and test acucuracy score."
   ]
  },
  {
   "cell_type": "code",
   "execution_count": 69,
   "id": "d114c13b",
   "metadata": {
    "id": "d114c13b"
   },
   "outputs": [
    {
     "data": {
      "image/png": "[encoded data removed]",
      "text/plain": [
       "<Figure size 640x480 with 1 Axes>"
      ]
     },
     "metadata": {},
     "output_type": "display_data"
    }
   ],
   "source": [
    "import matplotlib.pyplot as plt\n",
    "\n",
    "# Define color palette\n",
    "colors = ['#F7B2C2', '#BBAE8D']\n",
    "\n",
    "# Create bar plot data\n",
    "test_score = score_df['Test Score'].tolist()\n",
    "val_score = score_df['Validation Score'].tolist()\n",
    "x_labels = score_df['Model'].tolist()\n",
    "\n",
    "# Set up the figure and axis\n",
    "fig, ax = plt.subplots()\n",
    "ax.set_title('Model Test and Validation Scores')\n",
    "ax.set_xlabel('Model')\n",
    "ax.set_ylabel('Score')\n",
    "ax.bar(x_labels, test_score, width=0.4, color=colors[0], label='Test Score')\n",
    "ax.bar([x + 0.4 for x in range(len(x_labels))], val_score, width=0.4, color=colors[1], label='Validation Score')\n",
    "\n",
    "# Add legend and show plot\n",
    "ax.legend()\n",
    "plt.show()\n"
   ]
  },
  {
   "cell_type": "markdown",
   "id": "96963f52",
   "metadata": {
    "id": "96963f52"
   },
   "source": [
    "The bar graph above represents the test and validation accuracy scores. It can be observed that the test scores and the best scores of each model are very close to each other. However, it is noticeable that using KNN resulted in the best score"
   ]
  },
  {
   "cell_type": "markdown",
   "id": "52575b4d",
   "metadata": {
    "id": "52575b4d"
   },
   "source": [
    "To aid the Compliance Team in detecting fraudulent behavior by predicting whether a transaction is fraudulent or not, the KNN model with n_neighbors=7 provided the highest accuracy score. The team can utilize this model to predict the likelihood of fraudulent activity by customers and minimize the risk of losses resulting from fraud."
   ]
  },
  {
   "cell_type": "markdown",
   "id": "c2fc635c",
   "metadata": {},
   "source": [
    "## 11. Deployment"
   ]
  },
  {
   "cell_type": "markdown",
   "id": "ff946a6d",
   "metadata": {},
   "source": [
    "We will deploy the KNN model with the best estimator on Streamlit app."
   ]
  },
  {
   "cell_type": "markdown",
   "id": "7273b2de",
   "metadata": {},
   "source": [
    "- save the trained knn model by pickle and create the app.py file for the streamlit. the code is on GitHub: https://github.com/thirada2799/ML_AT3/blob/main/app.py"
   ]
  },
  {
   "cell_type": "code",
   "execution_count": null,
   "id": "36141f3c",
   "metadata": {},
   "outputs": [],
   "source": [
    "import pickle\n",
    "filename = 'knn_model.pkl'\n",
    "pickle.dump(knngrid, open(filename, 'wb'))"
   ]
  },
  {
   "cell_type": "markdown",
   "id": "382b7aa3",
   "metadata": {},
   "source": [
    "- deploy the streamlit app: Network URL: http://10.255.131.75:8502"
   ]
  },
  {
   "cell_type": "markdown",
   "id": "56d72bd5",
   "metadata": {
    "id": "56d72bd5"
   },
   "source": [
    "## Reference"
   ]
  },
  {
   "cell_type": "markdown",
   "id": "2aaef889",
   "metadata": {
    "id": "2aaef889"
   },
   "source": [
    "Singh, A. (2020). _Binary Classification using Machine Learning_. https://www.kaggle.com/code/abhigyan2311/binary-classification-using-machine-learning"
   ]
  }
 ],
 "metadata": {
  "colab": {
   "provenance": []
  },
  "kernelspec": {
   "display_name": "Python 3 (ipykernel)",
   "language": "python",
   "name": "python3"
  },
  "language_info": {
   "codemirror_mode": {
    "name": "ipython",
    "version": 3
   },
   "file_extension": ".py",
   "mimetype": "text/x-python",
   "name": "python",
   "nbconvert_exporter": "python",
   "pygments_lexer": "ipython3",
   "version": "3.10.9"
  }
 },
 "nbformat": 4,
 "nbformat_minor": 5
}
